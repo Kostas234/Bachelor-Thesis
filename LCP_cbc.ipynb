{
 "cells": [
  {
   "cell_type": "code",
   "execution_count": null,
   "metadata": {},
   "outputs": [],
   "source": [
    "# LCP(character by character)\n",
    "\n",
    "def LCP_cbc(x):\n",
    "    \n",
    "    result=''\n",
    "    n=len(x)\n",
    "    g=0\n",
    "    m=len(x[0])\n",
    "    for i in range(n-1):\n",
    "        #print m,len(x[i+1]),x[i+1]\n",
    "        if len(x[i+1])<m:\n",
    "            m=len(x[i+1])\n",
    "\n",
    "    for j in range(m):\n",
    "        if g==1:\n",
    "            j=j-1\n",
    "            break\n",
    "        current=x[0][j]\n",
    "        for k in range(n): \n",
    "            if x[k][j]!=current:\n",
    "                g=1\n",
    "                break \n",
    "    if g==0:\n",
    "        j=j+1\n",
    "          \n",
    "    result=x[0][0:j]\n",
    "\n",
    "    return result"
   ]
  }
 ],
 "metadata": {
  "kernelspec": {
   "display_name": "Python 2",
   "language": "python",
   "name": "python2"
  },
  "language_info": {
   "codemirror_mode": {
    "name": "ipython",
    "version": 2
   },
   "file_extension": ".py",
   "mimetype": "text/x-python",
   "name": "python",
   "nbconvert_exporter": "python",
   "pygments_lexer": "ipython2",
   "version": "2.7.12"
  }
 },
 "nbformat": 4,
 "nbformat_minor": 2
}
