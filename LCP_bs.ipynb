{
 "cells": [
  {
   "cell_type": "code",
   "execution_count": 135,
   "metadata": {},
   "outputs": [],
   "source": [
    "def lcp1(x):\n",
    "    \n",
    "    n=len(x)    \n",
    "    prefix=\"\"\n",
    "\n",
    "    m=len(x[0])\n",
    "    for k in range(n-1):\n",
    "        m=min(m,len(x[k]))\n",
    "    low=0\n",
    "    high=m\n",
    "    mid=low+(high-low)/2\n",
    "    k=0\n",
    "    \n",
    "    for i in range(1,n):\n",
    "        if k==1:\n",
    "            break\n",
    "        for j in range(mid):\n",
    "            if x[i][j]!=x[0][j]:\n",
    "                print prefix\n",
    "                prefix=x[0][0:j]\n",
    "                k=1\n",
    "                break\n",
    "            \n",
    "            else:\n",
    "                prefix=x[0][0:mid]\n",
    "            \n",
    "                for w in range(1,n):\n",
    "                    for v in range(mid,high):\n",
    "                        if x[w][v]!=x[0][v]:\n",
    "                        #prefix=x[0][0:v]\n",
    "                            prefix=x[0][0:v]\n",
    "                        #break\n",
    "                #else:\n",
    "                #    prefix=x[0][0:high]\n",
    "                #    continue\n",
    "                #break\n",
    "            #continue\n",
    "        #break\n",
    "        \n",
    "    return prefix"
   ]
  },
  {
   "cell_type": "code",
   "execution_count": 140,
   "metadata": {},
   "outputs": [
    {
     "name": "stdout",
     "output_type": "stream",
     "text": [
      "\n"
     ]
    },
    {
     "data": {
      "text/plain": [
       "''"
      ]
     },
     "execution_count": 140,
     "metadata": {},
     "output_type": "execute_result"
    }
   ],
   "source": [
    "x=[\"geeeeeekksforgeeks\",\"geeeeeeks\",\"geeeeeek\",\"geeeeeeezer\"]\n",
    "y=[\"geeksforgeeks\",\"egeeks\",\"geek\",\"geezer\"]\n",
    "lcp1(y)"
   ]
  },
  {
   "cell_type": "code",
   "execution_count": 142,
   "metadata": {},
   "outputs": [],
   "source": [
    "def LCP(x):\n",
    "    \n",
    "    n=len(x)\n",
    "    prefix=\"\"\n",
    "    \n",
    "    def lcp(x,s,e):\n",
    "        \n",
    "        prefix=\"true\"\n",
    "        for i in range(1,len(x)):\n",
    "            for j in range(s,e):\n",
    "                if x[i][j]!=x[0][j]:\n",
    "                    prefix=x[0][0:j-1]\n",
    "                    break\n",
    "        print prefix\n",
    "        return prefix\n",
    "    \n",
    "    m=len(x[0])\n",
    "    for k in range(1,n):\n",
    "        m=min(m,len(x[k]))\n",
    "\n",
    "    low=0\n",
    "    high=m+1\n",
    "    while low<=high:\n",
    "        \n",
    "        mid=low+(high-low)/2\n",
    "        p=lcp(x,low,mid)\n",
    "        if p==\"true\":\n",
    "            prefix+=x[0][low:mid-low+1]\n",
    "            \n",
    "            low=mid+1\n",
    "        else:\n",
    "            prefix=p\n",
    "            #break\n",
    "            #return \"gamw to mouni ths manas sou\"\n",
    "    return prefix"
   ]
  },
  {
   "cell_type": "code",
   "execution_count": 143,
   "metadata": {},
   "outputs": [
    {
     "name": "stdout",
     "output_type": "stream",
     "text": [
      "true\n",
      "true\n",
      "true\n"
     ]
    },
    {
     "data": {
      "text/plain": [
       "'AC'"
      ]
     },
     "execution_count": 143,
     "metadata": {},
     "output_type": "execute_result"
    }
   ],
   "source": [
    "LCP([\"ACGGTTT\",\"AG\",\"ACGGT\"])"
   ]
  },
  {
   "cell_type": "code",
   "execution_count": 141,
   "metadata": {},
   "outputs": [],
   "source": [
    "def LCP(x):\n",
    "    \n",
    "    def lcp(x,s):\n",
    "        s1=x[0][0:s]\n",
    "        for i in range(1,len(x)):\n",
    "            #print x[i][0:s],s1\n",
    "            if x[i][0:s]!=s1:\n",
    "                return \"false\"\n",
    "        return \"true\"\n",
    "    \n",
    "    n=len(x)\n",
    "    m=len(x[0])\n",
    "    for k in range(n):\n",
    "        m=min(m,x[k])\n",
    "    low=1\n",
    "    high=m\n",
    "    while low<=high:\n",
    "        mid=(low+high)/2\n",
    "        if lcp(x,mid)==\"true\":\n",
    "            low=mid+1\n",
    "        else:\n",
    "            high=mid-1\n",
    "    return x[0][0:(low+high/2)]        "
   ]
  },
  {
   "cell_type": "code",
   "execution_count": 54,
   "metadata": {},
   "outputs": [
    {
     "data": {
      "text/plain": [
       "'ACGGTTT'"
      ]
     },
     "execution_count": 54,
     "metadata": {},
     "output_type": "execute_result"
    }
   ],
   "source": [
    "LCP([\"ACGGTTT\",\"ACGG\",\"ACGGT\"])"
   ]
  },
  {
   "cell_type": "code",
   "execution_count": 5,
   "metadata": {},
   "outputs": [],
   "source": [
    "def longestCommonPrefix(a):\n",
    "    \n",
    "    def matching(first_str, a, start, end):\n",
    "        for i in range(1, len(a)):\n",
    "            if len(a[i][start:end+1]) < len(first_str):\n",
    "                return\n",
    "            if a[i][start:end+1] != first_str:\n",
    "                return\n",
    "        return first_str\n",
    "    if not a:\n",
    "        return ''\n",
    "    sub_str = []\n",
    "    low = 0\n",
    "    high = len(a[0]) -1\n",
    "\n",
    "    while(low <= high):\n",
    "        mid = int(low + (high-low)/2)\n",
    "        if matching(a[0][low:mid+1], a, low, mid):\n",
    "            sub_str += a[0][low:mid+1]\n",
    "            low = mid + 1\n",
    "        else:\n",
    "            high = mid - 1\n",
    "\n",
    "    return(''.join(sub_str))"
   ]
  },
  {
   "cell_type": "code",
   "execution_count": 6,
   "metadata": {},
   "outputs": [
    {
     "data": {
      "text/plain": [
       "'ACG'"
      ]
     },
     "execution_count": 6,
     "metadata": {},
     "output_type": "execute_result"
    }
   ],
   "source": [
    "longestCommonPrefix([\"ACGGTTT\",\"ACG\",\"ACGGT\"])\n"
   ]
  },
  {
   "cell_type": "code",
   "execution_count": 74,
   "metadata": {},
   "outputs": [
    {
     "data": {
      "text/plain": [
       "2"
      ]
     },
     "execution_count": 74,
     "metadata": {},
     "output_type": "execute_result"
    }
   ],
   "source": []
  },
  {
   "cell_type": "code",
   "execution_count": null,
   "metadata": {},
   "outputs": [],
   "source": []
  }
 ],
 "metadata": {
  "kernelspec": {
   "display_name": "Python 2",
   "language": "python",
   "name": "python2"
  },
  "language_info": {
   "codemirror_mode": {
    "name": "ipython",
    "version": 2
   },
   "file_extension": ".py",
   "mimetype": "text/x-python",
   "name": "python",
   "nbconvert_exporter": "python",
   "pygments_lexer": "ipython2",
   "version": "2.7.12"
  }
 },
 "nbformat": 4,
 "nbformat_minor": 2
}
