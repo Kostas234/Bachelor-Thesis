{
 "cells": [
  {
   "cell_type": "code",
   "execution_count": 2,
   "metadata": {},
   "outputs": [],
   "source": [
    "# LCP(word by word)\n",
    "\n",
    "#lcp2=LCP(for 2 strings)\n",
    "\n",
    "def lcp2(x,y):\n",
    "    \n",
    "    result = \"\"\n",
    "    n=len(x)\n",
    "    if len(y)<n:\n",
    "        n=len(y)\n",
    "    for j in range(n):\n",
    "        if x[j]!=y[j]:\n",
    "            break\n",
    "        result += x[j]\n",
    "        \n",
    "    return result\n",
    "\n",
    "def LCP(x):\n",
    "    \n",
    "    n=len(x)\n",
    "    prefix=x[0]\n",
    "    for i in range(n):\n",
    "        prefix=lcp2(prefix,x[i])\n",
    "        \n",
    "    return prefix           "
   ]
  },
  {
   "cell_type": "code",
   "execution_count": 4,
   "metadata": {},
   "outputs": [
    {
     "data": {
      "text/plain": [
       "'AC'"
      ]
     },
     "execution_count": 4,
     "metadata": {},
     "output_type": "execute_result"
    }
   ],
   "source": [
    "dna1=\"ACTGCGCTAATGAATG\"\n",
    "dna2=\"ACGTAGCAATGGTACCATG\"\n",
    "LCP([dna1,dna2])"
   ]
  },
  {
   "cell_type": "code",
   "execution_count": null,
   "metadata": {},
   "outputs": [],
   "source": []
  }
 ],
 "metadata": {
  "kernelspec": {
   "display_name": "Python 2",
   "language": "python",
   "name": "python2"
  },
  "language_info": {
   "codemirror_mode": {
    "name": "ipython",
    "version": 2
   },
   "file_extension": ".py",
   "mimetype": "text/x-python",
   "name": "python",
   "nbconvert_exporter": "python",
   "pygments_lexer": "ipython2",
   "version": "2.7.12"
  }
 },
 "nbformat": 4,
 "nbformat_minor": 2
}
