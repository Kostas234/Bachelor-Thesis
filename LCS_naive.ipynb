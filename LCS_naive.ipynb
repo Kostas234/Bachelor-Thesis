{
 "cells": [
  {
   "cell_type": "code",
   "execution_count": 108,
   "metadata": {},
   "outputs": [],
   "source": [
    "def lcs_naive(x,y):\n",
    "    \n",
    "    length = len(x)\n",
    "    z = []\n",
    "    result=\"\"\n",
    "    for i in range(length):\n",
    "        for j in range(i,length):\n",
    "            z.append(x[i:j+1])\n",
    "    pat=\"\"\n",
    "    lz=len(z)\n",
    "    for i in range(lz-1):\n",
    "        p=KMPSearch(z[i],y)\n",
    "        if p>=0:\n",
    "            if len(z[i])>len(pat):\n",
    "                pat=z[i]\n",
    "    return pat\n",
    "\n",
    "   \n",
    "def KMPSearch(pat, txt):\n",
    "    M = len(pat)\n",
    "    N = len(txt)\n",
    "    lps = [0]*M\n",
    "    j = 0\n",
    "    \n",
    "    computeLPSArray(pat, M, lps)\n",
    "    i = 0\n",
    "    while i < N:\n",
    "        if pat[j] == txt[i]:\n",
    "            i += 1\n",
    "            j += 1\n",
    " \n",
    "        if j == M:\n",
    "            return str(i-j)\n",
    "            j = lps[j-1]\n",
    " \n",
    "        # mismatch after j matches\n",
    "        elif i < N and pat[j] != txt[i]:\n",
    "            if j != 0:\n",
    "                j = lps[j-1]\n",
    "            else:\n",
    "                i += 1\n",
    " \n",
    "def computeLPSArray(pat, M, lps):\n",
    "    \n",
    "    len = 0\n",
    "    lps[0]\n",
    "    i = 1\n",
    "    while i < M:\n",
    "        if pat[i]==pat[len]:\n",
    "            len += 1\n",
    "            lps[i] = len\n",
    "            i += 1\n",
    "        else:\n",
    "            if len != 0:\n",
    "                len = lps[len-1]\n",
    "            else:\n",
    "                lps[i] = 0\n",
    "                i += 1     "
   ]
  },
  {
   "cell_type": "code",
   "execution_count": 109,
   "metadata": {},
   "outputs": [
    {
     "name": "stdout",
     "output_type": "stream",
     "text": [
      "ABABCABAB\n"
     ]
    }
   ],
   "source": [
    "x=[\"ABABCABAB\",\"CKJSL\",\"ABA\"]\n",
    "y=\"PORRPROPABABCABABOPA\"\n",
    "pat=\"\"\n",
    "for i in range(3):\n",
    "    p=KMPSearch(x[i],y)\n",
    "    if p>=0:\n",
    "        if len(x[i])>len(pat):\n",
    "            pat=x[i]\n",
    "print pat"
   ]
  },
  {
   "cell_type": "code",
   "execution_count": 113,
   "metadata": {},
   "outputs": [
    {
     "data": {
      "text/plain": [
       "'ACCCGGTGATGGGGGGATGGGGATAGGATAGAGATAGTGAGATAGATAGTGGAGGACCCCGAGTAGGCCCCTTTTTGACAGAAAAAAAAAAAAAAAAAAAAAAAAAAAAAAAAAAAGGGGGGGGGGGGGGGGGGGGGGGGGGGGGGGGGGGGGGGGGGGGGGGGGGGGGGGGGGGGAAAAAAAAAAAAAAAAAAAAAAAAAAAAAAAAAAAAAAAAAAAAAAAAAAAAAAAAAAAAAAAAAAAAAAAAAAAAAAAAAAAAAGGGGGGGGGGGGGGGGGGGGGGGGGGGGGGGGGGGGGGGGGGGGGGGGGGGGGGGGGGGGGGGGGGGGGGGGGGGGGGGGGGGGGGGGGGGGGGGGGGGGGGGGGGGGGGGGGGGGGGAAAAAAAAAAAAAAAAAAAAAAAAAAAAAAAAAAAAAAAAAAAAAAAAAAAAAAAAAAAAAAAAAAAAAAAAAACCCGGTGATGGGGGGATGGGGATAGGATAGAGATAGTGAGATAGATAGTGGAGGACCCCGAGTAGGCCCCTTTTTGACAGA'"
      ]
     },
     "execution_count": 113,
     "metadata": {},
     "output_type": "execute_result"
    }
   ],
   "source": [
    "lcs_naive(\"AAAAAAAAAAAAAAAAAAAAAAAAAAAAAAAAAAGGGGGGGGGGGGGGGGGGGGGGGGGGGGGGGGGGGGGGGGGGGGGGGGGGGGGGGGGGGGAAAAAAAAAAAAAAAAAAAAAAAAAAAAAAAAAAAAAAAAAAAAAAAAAAAAAAAAAAAAAAAAAAAAAAAAAAAAAAAAAAAAAGGGGGGGGGGGGGGGGGGGGGGGGGGGGGGGGGGGGGGGGGGGGGGGGGGGGGGGGGGGGGGGGGGGGGGGGGGGGGGGGGGGGGGGGGGGGGGGGGGGGGGGGGGGGGGGGGGGGGGAAAAAAAAAAAAAAAAAAAAAAAAAAAAAAAAAAAAAAAAAAAAAAAAAAAAAAAAAAAAAAAAAAAAAAAAAACCCGGTGATGGGGGGATGGGGATAGGATAGAGATAGTGAGATAGATAGTGGAGGACCCCGAGTAGGCCCCTTTTTGACAGAAAAAAAAAAAAAAAAAAAAAAAAAAAAAAAAAAAGGGGGGGGGGGGGGGGGGGGGGGGGGGGGGGGGGGGGGGGGGGGGGGGGGGGGGGGGGGGAAAAAAAAAAAAAAAAAAAAAAAAAAAAAAAAAAAAAAAAAAAAAAAAAAAAAAAAAAAAAAAAAAAAAAAAAAAAAAAAAAAAAGGGGGGGGGGGGGGGGGGGGGGGGGGGGGGGGGGGGGGGGGGGGGGGGGGGGGGGGGGGGGGGGGGGGGGGGGGGGGGGGGGGGGGGGGGGGGGGGGGGGGGGGGGGGGGGGGGGGGGAAAAAAAAAAAAAAAAAAAAAAAAAAAAAAAAAAAAAAAAAAAAAAAAAAAAAAAAAAAAAAAAAAAAAAAAAACCCGGTGATGGGGGGATGGGGATAGGATAGAGATAGTGAGATAGATAGTGGAGGACCCCGAGTAGGCCCCTTTTTGACAGA\",\"TTTTTTTTTTTTTTTTTTTTTTTTTTTTTTTTTTTTTTTTTTTTTTTTTTTTTTTTTTTTTTTTTTTTTTTCCCCCCCCCCCCCCCCCCCCCCCCCCCCCCCCCCCCCCCCCCCCCCCCCCCCCCCCCCCCCCCCCCCCCCCCCCCCCCCCCCCCTTTTTTTTTTTTTTTTTTTTTTTTTTTTTTTTTTTTTTTTTTTTTTTTTTTTTTTTTTTTTTTTTTTTTTTTCCCCCCCCCCCCCCCCCCCCCCCCCCCCCCCCCCCCCCCCCCCCCCCCCCCCCCCCCCCCCCCCCCCCCCCCCCCCCCCCCCCCCCCCCCCCCCCCCCCCCCCCCCCCCCCCCTTTTTTTTTTTTTTTTTTTTTTTTTTTTTTTTTTTTTTTTTTTTTTTTTTTTTTTTTTTTTTTTTTTTTTTTTTTTTTTTTTTTTTTTTTTTTTTTTTTTTTTTTTTTTTTTTTTTTTTTTTTTTTTTTTTTTTTTTTTTTTTTTTTTTTTTTTTTTTTTTTTTTTTTTTTTTTACCCGGTGATGGGGGGATGGGGATAGGATAGAGATAGTGAGATAGATAGTGGAGGACCCCGAGTAGGCCCCTTTTTGACAGAAAAAAAAAAAAAAAAAAAAAAAAAAAAAAAAAAAGGGGGGGGGGGGGGGGGGGGGGGGGGGGGGGGGGGGGGGGGGGGGGGGGGGGGGGGGGGGAAAAAAAAAAAAAAAAAAAAAAAAAAAAAAAAAAAAAAAAAAAAAAAAAAAAAAAAAAAAAAAAAAAAAAAAAAAAAAAAAAAAAGGGGGGGGGGGGGGGGGGGGGGGGGGGGGGGGGGGGGGGGGGGGGGGGGGGGGGGGGGGGGGGGGGGGGGGGGGGGGGGGGGGGGGGGGGGGGGGGGGGGGGGGGGGGGGGGGGGGGGAAAAAAAAAAAAAAAAAAAAAAAAAAAAAAAAAAAAAAAAAAAAAAAAAAAAAAAAAAAAAAAAAAAAAAAAAACCCGGTGATGGGGGGATGGGGATAGGATAGAGATAGTGAGATAGATAGTGGAGGACCCCGAGTAGGCCCCTTTTTGACAGA\")#,100,100)"
   ]
  },
  {
   "cell_type": "code",
   "execution_count": 11,
   "metadata": {},
   "outputs": [
    {
     "name": "stdout",
     "output_type": "stream",
     "text": [
      "A\n",
      "AC\n",
      "ACG\n",
      "ACGT\n",
      "ACGTT\n",
      "ACGTTC\n",
      "ACGTTCA\n",
      "ACGTTCAC\n",
      "C\n",
      "CG\n",
      "CGT\n",
      "CGTT\n",
      "CGTTC\n",
      "CGTTCA\n",
      "CGTTCAC\n",
      "G\n",
      "GT\n",
      "GTT\n",
      "GTTC\n",
      "GTTCA\n",
      "GTTCAC\n",
      "T\n",
      "TT\n",
      "TTC\n",
      "TTCA\n",
      "TTCAC\n",
      "T\n",
      "TC\n",
      "TCA\n",
      "TCAC\n",
      "C\n",
      "CA\n",
      "CAC\n",
      "A\n",
      "AC\n",
      "C\n"
     ]
    }
   ],
   "source": [
    "x=\"ACGTTCAC\"\n",
    "length = len(x)\n",
    "z = []\n",
    "result=\"\"\n",
    "for i in range(length):\n",
    "    for j in range(i,length):\n",
    "        z.append(x[i:j+1])\n",
    "\n",
    "for i in range(len(z)):\n",
    "        print z[i]"
   ]
  },
  {
   "cell_type": "code",
   "execution_count": 1,
   "metadata": {},
   "outputs": [],
   "source": [
    "x=[\"a\",\"b\"]"
   ]
  },
  {
   "cell_type": "code",
   "execution_count": 2,
   "metadata": {},
   "outputs": [
    {
     "data": {
      "text/plain": [
       "['a', 'b']"
      ]
     },
     "execution_count": 2,
     "metadata": {},
     "output_type": "execute_result"
    }
   ],
   "source": [
    "x"
   ]
  },
  {
   "cell_type": "code",
   "execution_count": 3,
   "metadata": {},
   "outputs": [
    {
     "name": "stdout",
     "output_type": "stream",
     "text": [
      "ab\n"
     ]
    }
   ],
   "source": [
    "print \"\".join(x)"
   ]
  },
  {
   "cell_type": "code",
   "execution_count": 9,
   "metadata": {},
   "outputs": [],
   "source": [
    "import numpy as np\n",
    "l=3\n",
    "lpm=np.arange(l)"
   ]
  },
  {
   "cell_type": "code",
   "execution_count": 10,
   "metadata": {},
   "outputs": [
    {
     "data": {
      "text/plain": [
       "array([0, 1, 2])"
      ]
     },
     "execution_count": 10,
     "metadata": {},
     "output_type": "execute_result"
    }
   ],
   "source": [
    "lpm"
   ]
  },
  {
   "cell_type": "code",
   "execution_count": null,
   "metadata": {},
   "outputs": [],
   "source": []
  }
 ],
 "metadata": {
  "kernelspec": {
   "display_name": "Python 2",
   "language": "python",
   "name": "python2"
  },
  "language_info": {
   "codemirror_mode": {
    "name": "ipython",
    "version": 2
   },
   "file_extension": ".py",
   "mimetype": "text/x-python",
   "name": "python",
   "nbconvert_exporter": "python",
   "pygments_lexer": "ipython2",
   "version": "2.7.12"
  }
 },
 "nbformat": 4,
 "nbformat_minor": 2
}
