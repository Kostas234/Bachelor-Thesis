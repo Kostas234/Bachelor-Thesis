{
 "cells": [
  {
   "cell_type": "code",
   "execution_count": 13,
   "metadata": {},
   "outputs": [],
   "source": [
    "#LCSub Naive\n",
    "\n",
    "def lcs_n(x,y):\n",
    "    \n",
    "    n=len(x)\n",
    "    m=len(y)\n",
    "    \n",
    "    if n==0 or m==0:\n",
    "        return \"\"\n",
    "    \n",
    "    if x[n-1]==y[m-1]:\n",
    "        return lcs_n(x[0:n-1],y[0:m-1])+x[n-1]\n",
    "    \n",
    "    l1=lcs_n(x,y[0:m-1])\n",
    "    l2=lcs_n(x[0:n-1],y)\n",
    "    \n",
    "    if len(l1)>len(l2):\n",
    "        return l1\n",
    "    else:\n",
    "        return l2"
   ]
  },
  {
   "cell_type": "code",
   "execution_count": 15,
   "metadata": {},
   "outputs": [
    {
     "name": "stdout",
     "output_type": "stream",
     "text": [
      "GATC\n"
     ]
    }
   ],
   "source": [
    "print lcs_n('GATAGAC','AGACTC')"
   ]
  },
  {
   "cell_type": "code",
   "execution_count": null,
   "metadata": {},
   "outputs": [],
   "source": []
  }
 ],
 "metadata": {
  "kernelspec": {
   "display_name": "Python 2",
   "language": "python",
   "name": "python2"
  },
  "language_info": {
   "codemirror_mode": {
    "name": "ipython",
    "version": 2
   },
   "file_extension": ".py",
   "mimetype": "text/x-python",
   "name": "python",
   "nbconvert_exporter": "python",
   "pygments_lexer": "ipython2",
   "version": "2.7.12"
  }
 },
 "nbformat": 4,
 "nbformat_minor": 2
}
