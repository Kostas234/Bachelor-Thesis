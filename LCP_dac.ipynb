{
 "cells": [
  {
   "cell_type": "code",
   "execution_count": 52,
   "metadata": {},
   "outputs": [],
   "source": [
    "# LCP divide and conquer\n",
    "\n",
    "def lcp2(x,y):\n",
    "    \n",
    "    result = \"\"\n",
    "    n=len(x)\n",
    "    if len(y)<n:\n",
    "        n=len(y)\n",
    "    for j in range(n):\n",
    "        if x[j]!=y[j]:\n",
    "            break\n",
    "        result += x[j]\n",
    "        \n",
    "    return result\n",
    "\n",
    "def LCP(x,low,high):\n",
    "\n",
    "    if low==high:\n",
    "        return x[low]\n",
    "    \n",
    "    if high>low:        \n",
    "        mid=low+(high-low)/2\n",
    "        str1=LCP(x,low,mid)\n",
    "        str2=LCP(x,mid+1,high)\n",
    "        \n",
    "        result=lcp2(str1,str2)\n",
    "\n",
    "        return result\n",
    "\n",
    "    "
   ]
  },
  {
   "cell_type": "code",
   "execution_count": 53,
   "metadata": {},
   "outputs": [],
   "source": [
    "x=[\"skase\",\"ska\",\"skasere\",\"skata\"]\n",
    "z=[\"skase\",\"skata\",\"skasere\"]\n",
    "y=[\"ACGT\",\"ACGTC\",\"AC\",\"AC\",\"ACGTTGC\",\"A\"]"
   ]
  },
  {
   "cell_type": "code",
   "execution_count": 54,
   "metadata": {},
   "outputs": [
    {
     "data": {
      "text/plain": [
       "'A'"
      ]
     },
     "execution_count": 54,
     "metadata": {},
     "output_type": "execute_result"
    }
   ],
   "source": [
    "n=len(y)\n",
    "LCP(y,0,n-1)"
   ]
  },
  {
   "cell_type": "code",
   "execution_count": null,
   "metadata": {},
   "outputs": [],
   "source": []
  },
  {
   "cell_type": "code",
   "execution_count": null,
   "metadata": {},
   "outputs": [],
   "source": []
  }
 ],
 "metadata": {
  "kernelspec": {
   "display_name": "Python 2",
   "language": "python",
   "name": "python2"
  },
  "language_info": {
   "codemirror_mode": {
    "name": "ipython",
    "version": 2
   },
   "file_extension": ".py",
   "mimetype": "text/x-python",
   "name": "python",
   "nbconvert_exporter": "python",
   "pygments_lexer": "ipython2",
   "version": "2.7.12"
  }
 },
 "nbformat": 4,
 "nbformat_minor": 2
}
