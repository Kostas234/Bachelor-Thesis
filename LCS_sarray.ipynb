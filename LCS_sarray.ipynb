{
 "cells": [
  {
   "cell_type": "code",
   "execution_count": 4,
   "metadata": {},
   "outputs": [],
   "source": [
    "def LCP(x):\n",
    "    \n",
    "    n=len(x)    \n",
    "    prefix=\"\"\n",
    "    m=len(x[0])\n",
    "    for i in range(n-1):\n",
    "        m=min(m,len(x[i+1]))\n",
    "        \n",
    "    low=0\n",
    "    high=m\n",
    "    mid=low+(high-low)/2\n",
    "    \n",
    "    for i in range(1,n):\n",
    "        for j in range(mid):\n",
    "            if x[i][j]!=x[0][j]:\n",
    "                prefix=x[0][0:j]\n",
    "                break\n",
    "        else:\n",
    "            prefix=x[0][0:mid]\n",
    "            \n",
    "            for w in range(1,n):\n",
    "                for v in range(mid,high):\n",
    "                    if x[w][v]!=x[0][v]:\n",
    "                        prefix=x[0][0:v]\n",
    "                        break\n",
    "                else:\n",
    "                    prefix=x[0][0:high]\n",
    "                    continue\n",
    "                break\n",
    "            continue\n",
    "        break\n",
    "        \n",
    "    return prefix"
   ]
  },
  {
   "cell_type": "code",
   "execution_count": null,
   "metadata": {},
   "outputs": [],
   "source": []
  },
  {
   "cell_type": "code",
   "execution_count": 10,
   "metadata": {},
   "outputs": [],
   "source": [
    "def lcs(x,y):\n",
    "    \n",
    "    s=x+\"#\"+y+\"$\"\n",
    "    n=len(s)\n",
    "    m=len(x)\n",
    "    r=[]\n",
    "    lcs=\"\"\n",
    "    p=1\n",
    "    \n",
    "    for i in range(n):\n",
    "        r.append((s[i:n]+str('{0:05}'.format(p))))\n",
    "        p+=1\n",
    "        \n",
    "    # lexikographiki taksinomisi tis listas    \n",
    "    r=sorted(r) \n",
    "    for j in range(n-1):\n",
    "        #print r[j][len(r[j])-5:len(r[j])]\n",
    "        #rint r[j+1][len(r[j+1])-5:len(r[j+1])]\n",
    "        l=LCP([r[j],r[j+1]])\n",
    "        if len(l)>=len(lcs) and ((int(r[j][len(r[j])-5:len(r[j])])<(m+1) and int(r[j+1][len(r[j+1])-5:len(r[j+1])])>(m+1)) or (int(r[j][len(r[j])-5:len(r[j])])>(m+1) and int(r[j+1][len(r[j+1])-5:len(r[j+1])])<(m+1))):\n",
    "            #print \"-------------------------->skase\",\"\\n------------------------------>\",r[j],\"\\n----------------------------->\",r[j+1]\n",
    "            lcs=l\n",
    "        #print l\n",
    "                \n",
    "    return lcs"
   ]
  },
  {
   "cell_type": "code",
   "execution_count": 9,
   "metadata": {},
   "outputs": [
    {
     "data": {
      "text/plain": [
       "'CG'"
      ]
     },
     "execution_count": 9,
     "metadata": {},
     "output_type": "execute_result"
    }
   ],
   "source": [
    "lcs(\"ACGT\",\"ATCGCT\")"
   ]
  },
  {
   "cell_type": "code",
   "execution_count": 6,
   "metadata": {},
   "outputs": [
    {
     "data": {
      "text/plain": [
       "'015'"
      ]
     },
     "execution_count": 6,
     "metadata": {},
     "output_type": "execute_result"
    }
   ],
   "source": [
    "p=15\n",
    "'{0:03}'.format(p)"
   ]
  },
  {
   "cell_type": "code",
   "execution_count": 7,
   "metadata": {},
   "outputs": [
    {
     "data": {
      "text/plain": [
       "'ATCCATG'"
      ]
     },
     "execution_count": 7,
     "metadata": {},
     "output_type": "execute_result"
    }
   ],
   "source": [
    "import time\n",
    "from suffix_trees import STree\n",
    "import lcs_dynamic\n",
    "import lcs_naive\n",
    "ecoli=\"AGCTTTTCATTCTGACTGCAACGGGCAATATGTCTCTGTGTGGATTAAAAAAAGAGTGTCTGATAGCAGCTTCTGGCGCACAGACAGATAAAAATTACAGAGTACACAACATCCATGAAACGCATTAGCACCACCATTACCACCACCATCAACTGGTTACCTGCCGTGAGTAAATTAAAATTTTATTGACTTAGGTCACTAAATACTTTAACCAATATAGGCATAACCATTACCACAGGTAACGGTGCGGGCTGACGCGTACAGGAAACACAGAAAAAAGCCCGCACCTGACAGTGCGGG\"\n",
    "strepto=\"TGAAATGGAAATGGTCTGGGAAAAACAACTAAAAGATATTATTGTAGTAGCTGGTTTTGAAATTTATGACATTTCTATGCTATTCAAGCTGAACTTATCAAGGTAGAGGAAAATGTTGCCACTATATTTCTACCTCGCTCTTGAAAGAAAAACAATTTTGGAATCGTATATTAGAATTTGCACAAGAAAGACTGACTCGATCCATGTATGGCTGAAATAACTCCCCACTATATTTTCACCAAACCTCAAGATACGACTAGCTCACAAGTTGAAGAAGCTA\"\n",
    "a=[ecoli,strepto]\n",
    "x=\"ACGT\"\n",
    "y=\"GGTC\"\n",
    "lcs(ecoli,strepto)"
   ]
  },
  {
   "cell_type": "code",
   "execution_count": 28,
   "metadata": {},
   "outputs": [
    {
     "name": "stdout",
     "output_type": "stream",
     "text": [
      "ATCCATG\n",
      "lcs_sarray--- 0.00272607803345 seconds ---\n",
      "lcs_dynamic--- 0.0149018764496 seconds ---\n",
      "lcs_stree--- 0.0263688564301 seconds ---\n"
     ]
    }
   ],
   "source": [
    "start_time1=time.time()\n",
    "lcs_dynamic.lcs(ecoli,strepto)\n",
    "end_time1=time.time()\n",
    "start_time2=time.time()\n",
    "lcs(ecoli,strepto)\n",
    "end_time2=time.time()\n",
    "start_time3=time.time()\n",
    "st=STree.STree(a)\n",
    "print st.lcs()\n",
    "end_time3=time.time()\n",
    "print(\"lcs_sarray--- %s seconds ---\" % (end_time2 - start_time2))\n",
    "print(\"lcs_dynamic--- %s seconds ---\" % (end_time1 - start_time1))\n",
    "print(\"lcs_stree--- %s seconds ---\" % (end_time3 - start_time3))\n",
    "#"
   ]
  },
  {
   "cell_type": "code",
   "execution_count": 267,
   "metadata": {},
   "outputs": [
    {
     "data": {
      "text/plain": [
       "'GT'"
      ]
     },
     "execution_count": 267,
     "metadata": {},
     "output_type": "execute_result"
    }
   ],
   "source": [
    "x=\"ACGTLKLAOKACGT\"\n",
    "y=\"QWQWQWQWQWQWEGTPMZ\"\n",
    "lcs(x,y)"
   ]
  },
  {
   "cell_type": "code",
   "execution_count": 268,
   "metadata": {},
   "outputs": [],
   "source": [
    "def lcs2(x,y):\n",
    "    \n",
    "    n=len(x)\n",
    "    m=len(y)\n",
    "    result=\"\"\n",
    "    l3n=0\n",
    "    row=0\n",
    "    col=0\n",
    "    L=[[0 for v in range(m+1)]for w in range(n+1)]\n",
    "    \n",
    "    for i in range(n+1):\n",
    "        for j in range(m+1):\n",
    "            \n",
    "            if x[i-1]!=y[j-1]:\n",
    "                L[i][j]=0\n",
    "            \n",
    "            elif x[i-1]==y[j-1]:\n",
    "                L[i][j]=L[i-1][j-1]+1\n",
    "                if l3n<L[i][j]:\n",
    "                    l3n=L[i][j]\n",
    "                    row=i\n",
    "                    col=j\n",
    "    \n",
    "    if l3n==0:\n",
    "        print \"no common substring\"\n",
    "    \n",
    "    while L[row][col]!=0:\n",
    "        result=x[row-1]+result\n",
    "        row-=1\n",
    "        col-=1\n",
    "        \n",
    "    return result"
   ]
  },
  {
   "cell_type": "code",
   "execution_count": 269,
   "metadata": {},
   "outputs": [
    {
     "data": {
      "text/plain": [
       "'ATCCATG'"
      ]
     },
     "execution_count": 269,
     "metadata": {},
     "output_type": "execute_result"
    }
   ],
   "source": [
    "x=\"AGCTTTTCATTCTGACTGCAACGGGCAATATGTCTCTGTGTGGATTAAAAAAAGAGTGTCTGATAGCAGCTTCTGGCGCACAGACAGATAAAAATTACAGAGTACACAACATCCATGAAACGCATTAGCACCACCATTACCACCACCATCAACTGGTTACCTGCCGTGAGTAAATTAAAATTTTATTGACTTAGGTCACTAAATACTTTAACCAATATAGGCACCAGGTAACGGTGCGGGCTGACGCGTACAGGAAACACAGAAAAAAGCCCGCACCTGA\"\n",
    "y=\"TGAAATGGAAATGGTCTGGGAAAAACAACTAAAAGATATTATTGTAGTAGCTGGTTTTGAAATTTATGACATTTCTATGCTATTCAAGCTGAACTTATCAAGGTAGAGGAAAATGTTGCCACTATATTTCTACCTCGCTCTTGAAAGAAAAACAATTTTGGAATCGTATATTAGAATTTGCACAAGAAAGACTGACTCGATCCATGTATGGCTGAAATAACTCCCCACTATATTTTCACCAAACCTCAAGATACGACTAGCTCACAAGTTGAAGAAGCTA\"\n",
    "lcs2(x,y)"
   ]
  },
  {
   "cell_type": "code",
   "execution_count": 270,
   "metadata": {},
   "outputs": [
    {
     "data": {
      "text/plain": [
       "'ATCCATG'"
      ]
     },
     "execution_count": 270,
     "metadata": {},
     "output_type": "execute_result"
    }
   ],
   "source": [
    "x=\"AGCTTTTCATTCTGACTGCAACGGGCAATATGTCTCTGTGTGGATTAAAAAAAGAGTGTCTGATAGCAGCTTCTGGCGCACAGACAGATAAAAATTACAGAGTACACAACATCCATGAAACGCATTAGCACCACCATTACCACCACCATCAACTGGTTACCTGCCGTGAGTAAATTAAAATTTTATTGACTTAGGTCACTAAATACTTTAACCAATATAGGCACCAGGTAACGGTGCGGGCTGACGCGTACAGGAAACACAGAAAAAAGCCCGCACCTGA\"\n",
    "y=\"TGAAATGGAAATGGTCTGGGAAAAACAACTAAAAGATATTATTGTAGTAGCTGGTTTTGAAATTTATGACATTTCTATGCTATTCAAGCTGAACTTATCAAGGTAGAGGAAAATGTTGCCACTATATTTCTACCTCGCTCTTGAAAGAAAAACAATTTTGGAATCGTATATTAGAATTTGCACAAGAAAGACTGACTCGATCCATGTATGGCTGAAATAACTCCCCACTATATTTTCACCAAACCTCAAGATACGACTAGCTCACAAGTTGAAGAAGCTA\"\n",
    "lcs(x,y)"
   ]
  },
  {
   "cell_type": "code",
   "execution_count": null,
   "metadata": {},
   "outputs": [],
   "source": []
  },
  {
   "cell_type": "code",
   "execution_count": null,
   "metadata": {},
   "outputs": [],
   "source": []
  }
 ],
 "metadata": {
  "kernelspec": {
   "display_name": "Python 2",
   "language": "python",
   "name": "python2"
  },
  "language_info": {
   "codemirror_mode": {
    "name": "ipython",
    "version": 2
   },
   "file_extension": ".py",
   "mimetype": "text/x-python",
   "name": "python",
   "nbconvert_exporter": "python",
   "pygments_lexer": "ipython2",
   "version": "2.7.12"
  }
 },
 "nbformat": 4,
 "nbformat_minor": 2
}
