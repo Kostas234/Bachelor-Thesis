{
 "cells": [
  {
   "cell_type": "code",
   "execution_count": 51,
   "metadata": {},
   "outputs": [],
   "source": [
    "import numpy as np"
   ]
  },
  {
   "cell_type": "code",
   "execution_count": 52,
   "metadata": {},
   "outputs": [],
   "source": [
    "# reverse function\n",
    "\n",
    "def Reverse(x):\n",
    "    x_l=list(x)\n",
    "    x_l.reverse()\n",
    "    x_rl=x_l\n",
    "    x_r=''.join(x_rl)\n",
    "    \n",
    "    return x_r\n",
    "\n",
    "#paradeigma\n",
    "#Reverse(x)"
   ]
  },
  {
   "cell_type": "code",
   "execution_count": 53,
   "metadata": {},
   "outputs": [
    {
     "data": {
      "text/plain": [
       "1"
      ]
     },
     "execution_count": 53,
     "metadata": {},
     "output_type": "execute_result"
    }
   ],
   "source": [
    "def LCE(x,i,j):\n",
    "    n=len(x)\n",
    "    length=0\n",
    "    while x[i+length]==x[j+length] and j+length<n:\n",
    "        #if j+length==n:\n",
    "        #    break\n",
    "        length+=1\n",
    "        if j+length==n:\n",
    "            break\n",
    "        \n",
    "    return length\n",
    "\n",
    "#paradeigma\n",
    "x=\"abbabaababaabab\"\n",
    "LCE(x,0,5)\n",
    "#LCE(x,1,14)"
   ]
  },
  {
   "cell_type": "code",
   "execution_count": 54,
   "metadata": {},
   "outputs": [],
   "source": [
    "def LCE_k(x,i,j,k):\n",
    "    p=0\n",
    "    n=len(x)\n",
    "    length=0\n",
    "    while True:\n",
    "        if x[i+length]==x[j+length]:\n",
    "                length+=1\n",
    "        else: \n",
    "            p+=1\n",
    "            if p==k+1:\n",
    "                break\n",
    "            length+=1\n",
    "            \n",
    "        if j+length==n:\n",
    "            break\n",
    "        \n",
    "    return length"
   ]
  },
  {
   "cell_type": "code",
   "execution_count": 55,
   "metadata": {},
   "outputs": [
    {
     "data": {
      "text/plain": [
       "5"
      ]
     },
     "execution_count": 55,
     "metadata": {},
     "output_type": "execute_result"
    }
   ],
   "source": [
    "#paradeigma tou LCE_k\n",
    "LCE_k(x,0,10,2)"
   ]
  },
  {
   "cell_type": "code",
   "execution_count": 56,
   "metadata": {},
   "outputs": [],
   "source": [
    "def LPM(x,k):\n",
    "    l=len(x)\n",
    "    \n",
    "    lpm=np.arange(n)\n",
    "    for i in range(n):\n",
    "        lpm[i]=-1\n",
    "        \n",
    "    for j in range(l):\n",
    "        if j==0:\n",
    "            lpm[j]=-1\n",
    "        else: lpm[j]=LCE_k(x,0,j,k)\n",
    "    \n",
    "    return lpm"
   ]
  },
  {
   "cell_type": "code",
   "execution_count": 57,
   "metadata": {},
   "outputs": [
    {
     "ename": "NameError",
     "evalue": "global name 'n' is not defined",
     "output_type": "error",
     "traceback": [
      "\u001b[0;31m---------------------------------------------------------------------------\u001b[0m",
      "\u001b[0;31mNameError\u001b[0m                                 Traceback (most recent call last)",
      "\u001b[0;32m<ipython-input-57-b7313f1e6d23>\u001b[0m in \u001b[0;36m<module>\u001b[0;34m()\u001b[0m\n\u001b[0;32m----> 1\u001b[0;31m \u001b[0mLPM\u001b[0m\u001b[0;34m(\u001b[0m\u001b[0mx\u001b[0m\u001b[0;34m,\u001b[0m\u001b[0;36m2\u001b[0m\u001b[0;34m)\u001b[0m\u001b[0;34m\u001b[0m\u001b[0m\n\u001b[0m",
      "\u001b[0;32m<ipython-input-56-43c806824588>\u001b[0m in \u001b[0;36mLPM\u001b[0;34m(x, k)\u001b[0m\n\u001b[1;32m      2\u001b[0m     \u001b[0ml\u001b[0m\u001b[0;34m=\u001b[0m\u001b[0mlen\u001b[0m\u001b[0;34m(\u001b[0m\u001b[0mx\u001b[0m\u001b[0;34m)\u001b[0m\u001b[0;34m\u001b[0m\u001b[0m\n\u001b[1;32m      3\u001b[0m \u001b[0;34m\u001b[0m\u001b[0m\n\u001b[0;32m----> 4\u001b[0;31m     \u001b[0mlpm\u001b[0m\u001b[0;34m=\u001b[0m\u001b[0mnp\u001b[0m\u001b[0;34m.\u001b[0m\u001b[0marange\u001b[0m\u001b[0;34m(\u001b[0m\u001b[0mn\u001b[0m\u001b[0;34m)\u001b[0m\u001b[0;34m\u001b[0m\u001b[0m\n\u001b[0m\u001b[1;32m      5\u001b[0m     \u001b[0;32mfor\u001b[0m \u001b[0mi\u001b[0m \u001b[0;32min\u001b[0m \u001b[0mrange\u001b[0m\u001b[0;34m(\u001b[0m\u001b[0mn\u001b[0m\u001b[0;34m)\u001b[0m\u001b[0;34m:\u001b[0m\u001b[0;34m\u001b[0m\u001b[0m\n\u001b[1;32m      6\u001b[0m         \u001b[0mlpm\u001b[0m\u001b[0;34m[\u001b[0m\u001b[0mi\u001b[0m\u001b[0;34m]\u001b[0m\u001b[0;34m=\u001b[0m\u001b[0;34m-\u001b[0m\u001b[0;36m1\u001b[0m\u001b[0;34m\u001b[0m\u001b[0m\n",
      "\u001b[0;31mNameError\u001b[0m: global name 'n' is not defined"
     ]
    }
   ],
   "source": [
    "LPM(x,2)"
   ]
  },
  {
   "cell_type": "code",
   "execution_count": null,
   "metadata": {},
   "outputs": [],
   "source": [
    "def LSM(x,k):\n",
    "    \n",
    "    l=len(x)\n",
    "    \n",
    "    lsm=np.arange(n)    \n",
    "    for i in range(n):\n",
    "        lsm[i]=-1\n",
    "        \n",
    "    x=Reverse(x)\n",
    "    for j in range(l):\n",
    "        if j==l-1:\n",
    "            lsm[j]=-1\n",
    "        else: lsm[j]=LCE_k(x,0,l-1-j,k)\n",
    "            \n",
    "    return lsm\n",
    "    "
   ]
  },
  {
   "cell_type": "code",
   "execution_count": null,
   "metadata": {},
   "outputs": [],
   "source": [
    "lsm=LSM(x,2)\n",
    "print lsm"
   ]
  },
  {
   "cell_type": "code",
   "execution_count": null,
   "metadata": {},
   "outputs": [],
   "source": [
    "# k_closed\n",
    "\n",
    "import numpy as np\n",
    "\n",
    "def LCE_k(x,i,j,k):\n",
    "    p=0\n",
    "    n=len(x)\n",
    "    length=0\n",
    "    while True:\n",
    "        if x[i+length]==x[j+length]:\n",
    "                length+=1\n",
    "        else: \n",
    "            p+=1\n",
    "            if p==k+1:\n",
    "                break\n",
    "            length+=1\n",
    "            \n",
    "        if j+length==n:\n",
    "            break\n",
    "        \n",
    "    return length\n",
    "\n",
    "def Reverse(x):\n",
    "    \n",
    "    x=x=x[::-1]\n",
    "    \n",
    "    return x\n",
    "\n",
    "def LPM(x,k):\n",
    "    l=len(x)\n",
    "    \n",
    "    lpm=np.arange(l)\n",
    "    for i in range(l):\n",
    "        lpm[i]=-1\n",
    "        \n",
    "    for j in range(l):\n",
    "        if j==0:\n",
    "            lpm[j]=-1\n",
    "        else: lpm[j]=LCE_k(x,0,j,k)\n",
    "    \n",
    "    return lpm\n",
    "\n",
    "def LSM(x,k):\n",
    "    \n",
    "    l=len(x)\n",
    "    \n",
    "    lsm=np.arange(l)    \n",
    "    for i in range(l):\n",
    "        lsm[i]=-1\n",
    "        \n",
    "    x=Reverse(x)\n",
    "    for j in range(l):\n",
    "        if j==l-1:\n",
    "            lsm[j]=-1\n",
    "        else: lsm[j]=LCE_k(x,0,l-1-j,k)   \n",
    "    return lsm\n",
    "\n",
    "def getBorder(x,k):\n",
    "    \n",
    "    n=len(x)\n",
    "    m=0\n",
    "    c=0\n",
    "    thesi=\"\"\n",
    "    mikos=\"\"\n",
    "    con1=np.arange(n)\n",
    "    con2=np.arange(n)\n",
    "    con3=np.arange(n)\n",
    "    con=np.arange(n)\n",
    "    \n",
    "    for i in range(n):\n",
    "        con1[i]=0\n",
    "        con2[i]=0\n",
    "        con3[i]=0\n",
    "        con[i]=0\n",
    "        \n",
    "    lpm=LPM(x,k)\n",
    "    lsm=LSM(x,k)\n",
    "    \n",
    "    for j in range(n):\n",
    "        r=0\n",
    "        p=0\n",
    "        # first condition\n",
    "        if j+lpm[j]==n:\n",
    "            con1[j]=1\n",
    "            #print j,\"->\",con1[j]\n",
    "\n",
    "        # second condition\n",
    "        if j==0:\n",
    "            con2[j]=1\n",
    "        else:\n",
    "            for m in range(j):\n",
    "                #print \"gia j=\",j,\"to lpm[j]:\",lpm[j],\"kai to lpm[m]:\",lpm[m]\n",
    "                if lpm[j]>lpm[m]:\n",
    "                    r+=1\n",
    "                    if r==j:\n",
    "                        #print \"gia j=\",j,\"to r einai\",r\n",
    "                        con2[j]=1\n",
    "                        #print j,\"->\",con2[j]\n",
    "\n",
    "        # third condition\n",
    "        if j==0:\n",
    "            con3[j]=1\n",
    "        else:\n",
    "            for c in range(j):\n",
    "                if lsm[n-j-1]>lsm[n-c-1]:\n",
    "                    p+=1\n",
    "                    if p==j:\n",
    "                        con3[j]=1\n",
    "    \n",
    "    for s in range(n-1):\n",
    "        con[s]=con1[s]*con2[s]*con3[s]\n",
    "        if con[s]==1:\n",
    "            thesi=s\n",
    "            mikos=n-thesi\n",
    "    \n",
    "    if thesi==\"\":\n",
    "        print \"Den uparxei\",k,\"-closed Border se auti ti thesi\"\n",
    "    #return con\n",
    "    else:\n",
    "        print k,\"-closed Border bre8ike sti 8esi\",thesi,\"kai exei mikos\",mikos"
   ]
  },
  {
   "cell_type": "code",
   "execution_count": null,
   "metadata": {},
   "outputs": [],
   "source": [
    "x=\"abbabaababaabab\"\n",
    "y=\"ACGTTGACTTTAACT\"\n",
    "getBorder(y,2)"
   ]
  },
  {
   "cell_type": "code",
   "execution_count": null,
   "metadata": {},
   "outputs": [],
   "source": []
  }
 ],
 "metadata": {
  "kernelspec": {
   "display_name": "Python 2",
   "language": "python",
   "name": "python2"
  },
  "language_info": {
   "codemirror_mode": {
    "name": "ipython",
    "version": 2
   },
   "file_extension": ".py",
   "mimetype": "text/x-python",
   "name": "python",
   "nbconvert_exporter": "python",
   "pygments_lexer": "ipython2",
   "version": "2.7.12"
  }
 },
 "nbformat": 4,
 "nbformat_minor": 2
}
