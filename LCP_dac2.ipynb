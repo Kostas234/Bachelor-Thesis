{
 "cells": [
  {
   "cell_type": "code",
   "execution_count": 136,
   "metadata": {},
   "outputs": [],
   "source": [
    "# LCP divide and conquer\n",
    "\n",
    "# lcp2=LCP(for 2 strings)\n",
    "def lcp2(x,y):\n",
    "    \n",
    "    result = \"\"\n",
    "    n1=len(x)\n",
    "    n2=len(y)\n",
    "    if n1>n2:\n",
    "        n=n2\n",
    "    else:\n",
    "        n=n1\n",
    "    for i in range(n):\n",
    "        if x[i]!=y[i]:\n",
    "            break\n",
    "        result += x[i]\n",
    "        \n",
    "    return result\n",
    "    \n",
    "def LCP(x):\n",
    "    n=len(x)\n",
    "    #y=x[:len(x)/2] #dokimh\n",
    "    g=0\n",
    "    #f=0 #dokimh\n",
    "    #lcp1=[\"\"]*(n/2)\n",
    "    #res=[\"\"]*2\n",
    "    if n==1:\n",
    "        return x[0]\n",
    "    elif n%2==0:\n",
    "        w=0\n",
    "        while True:\n",
    "            if n==2**w:\n",
    "                break\n",
    "            w+=1\n",
    "        for v in range(w):\n",
    "            for j in xrange(0,n,2):\n",
    "                print \"gia j:\",j\n",
    "                #lcp1[g]=lcp2(x[j],x[j+1])\n",
    "                x[g]=lcp2(x[j],x[j+1])\n",
    "                #y[g]=lcp2(x[j],x[j+1]) #dokimh\n",
    "                #y[g]=lcp2(x[j],x[j+1]) #dokimh\n",
    "                #y=[\"\"]*(g+1) #dokimh\n",
    "                #print \"to f:\",f\n",
    "                #y[f]=x[f] #dokimh\n",
    "                #f+=1\n",
    "                g+=1                    \n",
    "                #print len(y) #dokimh\n",
    "                #y=x[:len(x)/2] #dokimh\n",
    "                #x[3]=[]\n",
    "                print \"to x:\",x\n",
    "                #print \"to y:\",y\n",
    "                #print \" to lcp1\",x#lcp1#,lcp2(x[j],x[j+1])\n",
    "            n=n/2\n",
    "            g=0\n",
    "        return x[0]\n",
    "    \n",
    "        #print \"gamw\"\n",
    "    else:\n",
    "        if n%2==1:\n",
    "            n=n-1\n",
    "            #for z in range(n):\n",
    "            a=x[n]\n",
    "            w=0\n",
    "            while True:\n",
    "                if n==2**w:\n",
    "                    break\n",
    "                w+=1\n",
    "            for v in range(w):\n",
    "                for j in xrange(0,n,2):\n",
    "                    #print \"gia j:\",j\n",
    "                    #lcp1[g]=lcp2(x[j],x[j+1])\n",
    "                    x[g]=lcp2(x[j],x[j+1])\n",
    "                    g+=1\n",
    "                    #print \" to lcp1\",x#lcp1#,lcp2(x[j],x[j+1])\n",
    "                n=n/2\n",
    "                g=0\n",
    "        result=lcp2(x[0],a)\n",
    "        return result         \n",
    "        "
   ]
  },
  {
   "cell_type": "code",
   "execution_count": 137,
   "metadata": {},
   "outputs": [
    {
     "data": {
      "text/plain": [
       "'sk'"
      ]
     },
     "execution_count": 137,
     "metadata": {},
     "output_type": "execute_result"
    }
   ],
   "source": [
    "x=[\"skate\",\"skat\",\"skale\",\"skaal\",\"skke\"]#,\"skak\"]#,\"ske\",\"skek\",\"skase\",\"sk\",\"ska\",\"ske\",\"skak\",\"ska\",\"ske\",\"skak\"]\n",
    "#a=x[4]\n",
    "#print a\n",
    "len(x)\n",
    "LCP(x)"
   ]
  },
  {
   "cell_type": "code",
   "execution_count": null,
   "metadata": {},
   "outputs": [],
   "source": [
    "y=[\"ACGT\",\"ACGATA\",\"ACGGGG\",\"AC\"]\n",
    "lcp(y)"
   ]
  },
  {
   "cell_type": "code",
   "execution_count": 135,
   "metadata": {},
   "outputs": [
    {
     "name": "stdout",
     "output_type": "stream",
     "text": [
      "0\n",
      "1\n",
      "2\n",
      "3\n"
     ]
    }
   ],
   "source": [
    "j=1\n",
    "m=4\n",
    "for j in range(m):\n",
    "    \n",
    "    print j\n",
    "    "
   ]
  },
  {
   "cell_type": "code",
   "execution_count": 171,
   "metadata": {},
   "outputs": [
    {
     "data": {
      "text/plain": [
       "'sk'"
      ]
     },
     "execution_count": 171,
     "metadata": {},
     "output_type": "execute_result"
    }
   ],
   "source": [
    "lcp2(\"sk\",\"sk\")"
   ]
  },
  {
   "cell_type": "code",
   "execution_count": 210,
   "metadata": {},
   "outputs": [
    {
     "name": "stdout",
     "output_type": "stream",
     "text": [
      "0\n",
      "2\n",
      "4\n"
     ]
    }
   ],
   "source": [
    "for k in xrange(0,5,2):\n",
    "    print k"
   ]
  },
  {
   "cell_type": "code",
   "execution_count": 224,
   "metadata": {},
   "outputs": [
    {
     "data": {
      "text/plain": [
       "8"
      ]
     },
     "execution_count": 224,
     "metadata": {},
     "output_type": "execute_result"
    }
   ],
   "source": [
    "2**3"
   ]
  },
  {
   "cell_type": "code",
   "execution_count": null,
   "metadata": {},
   "outputs": [],
   "source": []
  }
 ],
 "metadata": {
  "kernelspec": {
   "display_name": "Python 2",
   "language": "python",
   "name": "python2"
  },
  "language_info": {
   "codemirror_mode": {
    "name": "ipython",
    "version": 2
   },
   "file_extension": ".py",
   "mimetype": "text/x-python",
   "name": "python",
   "nbconvert_exporter": "python",
   "pygments_lexer": "ipython2",
   "version": "2.7.12"
  }
 },
 "nbformat": 4,
 "nbformat_minor": 2
}
