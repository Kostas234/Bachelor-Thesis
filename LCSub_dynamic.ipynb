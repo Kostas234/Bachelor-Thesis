{
 "cells": [
  {
   "cell_type": "code",
   "execution_count": 5,
   "metadata": {},
   "outputs": [],
   "source": [
    "# LCSub_dynamic\n",
    "\n",
    "def lcs(x,y):\n",
    "    \n",
    "    n=len(x)\n",
    "    m=len(y)\n",
    "    L=[[0 for v in range(m+1)]for w in range(n+1)]\n",
    "    #print L\n",
    "    for i in range(n+1):\n",
    "        for j in range(m+1):\n",
    "            if i==0 or j==0:\n",
    "                L[i][j]=0\n",
    "            \n",
    "            elif x[i-1]==y[j-1]:\n",
    "                L[i][j]=L[i-1][j-1]+1\n",
    "                \n",
    "            else:\n",
    "                L[i][j]=max(L[i-1][j], L[i][j-1])\n",
    "               \n",
    "    lcs=[\"\"]\n",
    "    i=n\n",
    "    j=m\n",
    "    while i>0 and j>0:\n",
    "        if x[i-1]==y[j-1]:\n",
    "            #print \"i=\",i,\"j=\",j,\"L[i-1][j]=\",L[i-1][j]\n",
    "            lcs.append(x[i-1])\n",
    "            i-=1\n",
    "            j-=1\n",
    "            \n",
    "        elif L[i-1][j]>L[i][j-1]:\n",
    "            #print \"i=\",i,\"j=\",j,\"L[i][j-1]=\",L[i][j-1]\n",
    "            i-=1\n",
    "        else:\n",
    "            #print \"i=\",i,\"j=\",j,\"L[i-1][j]=\",L[i-1][j]\n",
    "            j-=1\n",
    "        \n",
    "    return \"\".join(reversed(lcs))"
   ]
  },
  {
   "cell_type": "code",
   "execution_count": 6,
   "metadata": {},
   "outputs": [
    {
     "data": {
      "text/plain": [
       "'AC'"
      ]
     },
     "execution_count": 6,
     "metadata": {},
     "output_type": "execute_result"
    }
   ],
   "source": [
    "x=\"AGCT\"\n",
    "y=\"ACAG\"\n",
    "lcs(x,y)"
   ]
  },
  {
   "cell_type": "code",
   "execution_count": 13,
   "metadata": {},
   "outputs": [
    {
     "data": {
      "text/plain": [
       "'CCAGA'"
      ]
     },
     "execution_count": 13,
     "metadata": {},
     "output_type": "execute_result"
    }
   ],
   "source": [
    "x=\"ACGTTCAGA\"\n",
    "y=\"CCATGACGT\"\n",
    "lcs(x,y)"
   ]
  },
  {
   "cell_type": "code",
   "execution_count": 11,
   "metadata": {},
   "outputs": [],
   "source": [
    "# LCSub Iterative with Memoization\n",
    "\n",
    "def lcsub(A, B):\n",
    "\n",
    "    def empty_list():\n",
    "        return [0] * (len(B)+1)\n",
    "    K = [empty_list() for temp in range(len(A)+1)]\n",
    "    for i in range(len(A)-1,-1,-1):\n",
    "        for j in range(len(B)-1,-1,-1):\n",
    "            if A[i] == B[j]:\n",
    "                K[i][j] = 1+K[i+1][j+1]\n",
    "\n",
    "            else:\n",
    "                K[i][j] = max(K[i][j+1], K[i+1][j])\n",
    "    S = []\n",
    "    i = 0\n",
    "    j = 0\n",
    "    while (i < len(A)) and (j < len(B)):\n",
    "        if A[i] == B[j]:\n",
    "            S.append(A[i])\n",
    "            i += 1\n",
    "            j += 1\n",
    "        elif K[i+1][j] >= K[i][j+1]:\n",
    "            i += 1\n",
    "\n",
    "        else:\n",
    "            j += 1\n",
    "    return ''.join(S)"
   ]
  },
  {
   "cell_type": "code",
   "execution_count": 16,
   "metadata": {},
   "outputs": [
    {
     "data": {
      "text/plain": [
       "'AC'"
      ]
     },
     "execution_count": 16,
     "metadata": {},
     "output_type": "execute_result"
    }
   ],
   "source": [
    "x=\"AGCT\"\n",
    "y=\"ACAG\"\n",
    "lcsub(x,y)"
   ]
  },
  {
   "cell_type": "code",
   "execution_count": 13,
   "metadata": {},
   "outputs": [],
   "source": [
    "# Dynamic programming implementation of LCS problem\n",
    " \n",
    "# Returns length of LCS for X[0..m-1], Y[0..n-1] \n",
    "def lcs(X, Y, m, n):\n",
    "    L = [[0 for x in xrange(n+1)] for x in xrange(m+1)]\n",
    " \n",
    "    # Following steps build L[m+1][n+1] in bottom up fashion. Note\n",
    "    # that L[i][j] contains length of LCS of X[0..i-1] and Y[0..j-1] \n",
    "    for i in xrange(m+1):\n",
    "        for j in xrange(n+1):\n",
    "            if i == 0 or j == 0:\n",
    "                L[i][j] = 0\n",
    "            elif X[i-1] == Y[j-1]:\n",
    "                L[i][j] = L[i-1][j-1] + 1\n",
    "            else:\n",
    "                L[i][j] = max(L[i-1][j], L[i][j-1])\n",
    " \n",
    "    # Following code is used to print LCS\n",
    "    index = L[m][n]\n",
    " \n",
    "    # Create a character array to store the lcs string\n",
    "    lcs = [\"\"] * (index+1)\n",
    "    lcs[index] = \"\"\n",
    " \n",
    "    # Start from the right-most-bottom-most corner and\n",
    "    # one by one store characters in lcs[]\n",
    "    i = m\n",
    "    j = n\n",
    "    while i > 0 and j > 0:\n",
    " \n",
    "        # If current character in X[] and Y are same, then\n",
    "        # current character is part of LCS\n",
    "        if X[i-1] == Y[j-1]:\n",
    "            lcs[index-1] = X[i-1]\n",
    "            print \"i=\",i,\"j=\",j,\"L[i-1][j]=\",L[i-1][j]\n",
    "            i-=1\n",
    "            j-=1\n",
    "            index-=1\n",
    " \n",
    "        # If not same, then find the larger of two and\n",
    "        # go in the direction of larger value\n",
    "        elif L[i-1][j] > L[i][j-1]:\n",
    "            print \"i=\",i,\"j=\",j,\"L[i-1][j]=\",L[i-1][j]\n",
    "            i-=1\n",
    "        else:\n",
    "            print \"i=\",i,\"j=\",j,\"L[i-1][j]=\",L[i][j-1]\n",
    "            j-=1\n",
    " \n",
    "    print \"LCS of \" + X + \" and \" + Y + \" is \" + \"\".join(lcs)"
   ]
  },
  {
   "cell_type": "code",
   "execution_count": 14,
   "metadata": {},
   "outputs": [
    {
     "name": "stdout",
     "output_type": "stream",
     "text": [
      "i= 4 j= 4 L[i-1][j]= 2\n",
      "i= 4 j= 3 L[i-1][j]= 2\n",
      "i= 4 j= 2 L[i-1][j]= 2\n",
      "i= 3 j= 2 L[i-1][j]= 1\n",
      "i= 2 j= 1 L[i-1][j]= 1\n",
      "i= 1 j= 1 L[i-1][j]= 0\n",
      "LCS of AGCT and ACAG is AC\n"
     ]
    }
   ],
   "source": [
    "x=\"AGCT\"\n",
    "y=\"ACAG\"\n",
    "lcs(x,y,4,4)"
   ]
  },
  {
   "cell_type": "code",
   "execution_count": 15,
   "metadata": {},
   "outputs": [
    {
     "name": "stdout",
     "output_type": "stream",
     "text": [
      "i= 7 j= 7 L[i-1][j]= 4\n",
      "i= 7 j= 6 L[i-1][j]= 3\n",
      "i= 6 j= 5 L[i-1][j]= 3\n",
      "i= 5 j= 5 L[i-1][j]= 3\n",
      "i= 4 j= 5 L[i-1][j]= 2\n",
      "i= 3 j= 4 L[i-1][j]= 2\n",
      "i= 3 j= 3 L[i-1][j]= 1\n",
      "i= 2 j= 2 L[i-1][j]= 1\n",
      "i= 1 j= 2 L[i-1][j]= 0\n",
      "LCS of MZJAWXU and XMJYAUZ is MJAU\n"
     ]
    }
   ],
   "source": [
    "x=\"MZJAWXU\"\n",
    "y=\"XMJYAUZ\"\n",
    "lcs(x,y,7,7)"
   ]
  },
  {
   "cell_type": "code",
   "execution_count": null,
   "metadata": {},
   "outputs": [],
   "source": []
  }
 ],
 "metadata": {
  "kernelspec": {
   "display_name": "Python 2",
   "language": "python",
   "name": "python2"
  },
  "language_info": {
   "codemirror_mode": {
    "name": "ipython",
    "version": 2
   },
   "file_extension": ".py",
   "mimetype": "text/x-python",
   "name": "python",
   "nbconvert_exporter": "python",
   "pygments_lexer": "ipython2",
   "version": "2.7.12"
  }
 },
 "nbformat": 4,
 "nbformat_minor": 2
}
