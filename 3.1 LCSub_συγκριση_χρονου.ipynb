{
 "cells": [
  {
   "cell_type": "code",
   "execution_count": null,
   "metadata": {},
   "outputs": [],
   "source": [
    "# Bakthria ecoli kai streptokokos\n",
    "\n",
    "ecoli=sc.textFile(\"Dropbox/διπλωματικη/Ecoli_K_12.txt\")\n",
    "strepto=sc.textFile(\"Dropbox/διπλωματικη/strepto2.txt\")\n",
    "header1=ecoli.first()\n",
    "header2=strepto.first()\n",
    "# O header twra einai string prepei na to ksanakanw rdd gia\n",
    "# na to afairresw apo to arxeio\n",
    "header1_2=sc.parallelize([header1])\n",
    "header2_2=sc.parallelize([header2])\n",
    "# afairesh header apo to arxeio\n",
    "ecoli=ecoli.subtract(header1_2)\n",
    "strepto=strepto.subtract(header2_2)\n",
    "# enwsh grammwn\n",
    "ecoli=ecoli.reduce(lambda a,b: a+b)\n",
    "strepto=strepto.reduce(lambda a,b: a+b)"
   ]
  },
  {
   "cell_type": "code",
   "execution_count": null,
   "metadata": {},
   "outputs": [],
   "source": [
    "ecoli=sc.textFile(\"Dropbox/διπλωματικη/Ecoli_K_12.txt\")\n",
    "ec2=sc.textFile(\"Dropbox/διπλωματικη/ec2.txt\")\n",
    "ec3=sc.textFile(\"Dropbox/διπλωματικη/ec3.txt\")\n",
    "header1=ecoli.first()\n",
    "header2=ec2.first()\n",
    "header3=ec3.first()\n",
    "# O header twra einai string prepei na to ksanakanw rdd gia\n",
    "# na to afairresw apo to arxeio\n",
    "header1_2=sc.parallelize([header1])\n",
    "header2_2=sc.parallelize([header2])\n",
    "header2_3=sc.parallelize([header3])\n",
    "# afairesh header apo to arxeio\n",
    "ecoli=ecoli.subtract(header1_2)\n",
    "ec2=ec2.subtract(header2_2)\n",
    "ec3=ec3.subtract(header2_3)\n",
    "# enwsh grammwn\n",
    "ecoli=ecoli.reduce(lambda a,b: a+b)\n",
    "ec2=ec2.reduce(lambda a,b: a+b)\n",
    "ec3=ec3.reduce(lambda a,b: a+b)"
   ]
  },
  {
   "cell_type": "code",
   "execution_count": null,
   "metadata": {},
   "outputs": [],
   "source": [
    "import time\n",
    "sc.addFile(\"/home/zak92/lcsub_naive.py\")\n",
    "import lcsub_naive\n",
    "sc.addFile(\"/home/zak92/lcsub_dynamic.py\")\n",
    "import lcsub_dynamic\n",
    "sc.addFile(\"/home/zak92/lcsub_with_lis.py\")\n",
    "import lcsub_with_lis\n",
    "#\n",
    "#\n",
    "start_time1=time.time()\n",
    "lcsub_naive.lcs_n(ecoli,strepto)\n",
    "end_time1=time.time()\n",
    "start_time2=time.time()\n",
    "lcsub_dynamic.lcs(ecoli,strepto)\n",
    "end_time2=time.time()\n",
    "#print(\"lcsub_naive--- %s seconds ---\" % (end_time1 - start_time1))\n",
    "#print(\"lcsub_dynamic--- %s seconds ---\" % (end_time2 - start_time2))\n",
    "start_time3=time.time()\n",
    "lcsub_with_lis.lcsub(ecoli,strepto)\n",
    "end_time3=time.time()\n",
    "print(\"lcsub_naive--- %s seconds ---\" % (end_time1 - start_time1))\n",
    "print(\"lcsub_with_lis--- %s seconds ---\" % (end_time3 - start_time3))\n",
    "print(\"lcsub_dynamic--- %s seconds ---\" % (end_time2 - start_time2))\n",
    "start_time1=time.time()\n",
    "lcsub_naive.lcs_n(x,strepto)\n",
    "end_time1=time.time()\n",
    "print(\"lcsub_naive--- %s seconds ---\" % (end_time1 - start_time1))\n",
    "#"
   ]
  },
  {
   "cell_type": "code",
   "execution_count": null,
   "metadata": {},
   "outputs": [],
   "source": [
    "import time\n",
    "#start_time1=time.time()\n",
    "#lcsub_naive.lcs_n(x,y)\n",
    "#end_time1=time.time()\n",
    "start_time2=time.time()\n",
    "lcsub_dynamic.lcs(x,y)\n",
    "end_time2=time.time()\n",
    "start_time3=time.time()\n",
    "lcsub_with_lis.lcsub(x,y)\n",
    "end_time3=time.time()\n",
    "print(\"lcsub_dynamic--- %s seconds ---\" % (end_time2 - start_time2))\n",
    "print(\"lcsub_with_lis--- %s seconds ---\" % (end_time3 - start_time3))\n",
    "#print(\"lcsub_naive--- %s seconds ---\" % (end_time1 - start_time1))"
   ]
  },
  {
   "cell_type": "code",
   "execution_count": 7,
   "metadata": {},
   "outputs": [
    {
     "name": "stdout",
     "output_type": "stream",
     "text": [
      "2.7080502011\n"
     ]
    }
   ],
   "source": [
    "# ti paizei me thn poluplokothta ths LCSub με LIS \n",
    "# που ειναι n^2*logk\n",
    "import math\n",
    "print math.log(15)"
   ]
  },
  {
   "cell_type": "code",
   "execution_count": 10,
   "metadata": {},
   "outputs": [
    {
     "name": "stdout",
     "output_type": "stream",
     "text": [
      "83\n",
      "81\n"
     ]
    }
   ],
   "source": [
    "#2η συγκριση\n",
    "ecoli=\"CGGTTCGGGCTTAGGCTCCAGTGCCTGTTCGGTGGTCGCGGCGCTGATGGCGATGAATGAACACTGCGGCAAGCCCTGGCTGC\"\n",
    "strepto=\"AAAGAGGTTGAGCCTGGCTCGCCTCTTTTATGATATAATCGGAAAAGAAAAGGAGAGTAGTATGTATCAATACAAAAACTA\"\n",
    "print len(ecoli)\n",
    "print len(strepto)"
   ]
  },
  {
   "cell_type": "code",
   "execution_count": 7,
   "metadata": {},
   "outputs": [
    {
     "name": "stdout",
     "output_type": "stream",
     "text": [
      "155\n",
      "154\n"
     ]
    }
   ],
   "source": [
    "# 3η συγκριση\n",
    "ecoli=\"CGGTTCGGGCTTAGGCTCCAGTGCCTGTTCGGTGGTCGCGGCGCTGATGGCGATGAATGAACACTGCGGCAAGCCCTGGCTGCCTGTTTACGCGCCGATTGTTGCGAGATTTGGACGGACGTTGACGGGGTCTATACCTGCGACCCGCGTTAAAG\"\n",
    "strepto=\"AAAGAGGTTGAGCCTGGCTCGCCTCTTTTATGATATAATCGGAAAAGAAAAGGAGAGTAGTATGTATCAATACAAAAACTAACTGAAATGATAACTCCTAAAAAGACAGTTCCCACAACATTTGAATTTACAGATATTGCTGAAATGGAAATGG\"\n",
    "print len(ecoli)\n",
    "print len(strepto)"
   ]
  },
  {
   "cell_type": "code",
   "execution_count": null,
   "metadata": {},
   "outputs": [],
   "source": [
    "# 4η συγκριση με τα δεδομενα απο import\n",
    "\n",
    "#5η συγκριση με τα παρακατω\n",
    "ecoli=\"CGGTTCGGGCTTAGGCTCCAGTGCCTGTTCGGTGGTCGCGGCGCTGATGGCGATGAATGAACACTGCGGCAAGCCCTGGCTGCCTGTTTACGCGCCGATTGTTGCGAGATTTGGACGGACGTTGACGGGGTCTATACCTGCGACCCGCGTTAAAGATTTCGGCGGTCGCTTTATGGCACAAATGCTGACCCATATTGCGGGTGATAAGCCAGTGACCATTCTGACGGTTATACCGAACCGGACCCGCGAGATGATCTTTCTGGTATGGATGTGGCGCGTAAACTATTGATTCTCGCTCGTGCAGAACGTTTTCTGCGTGTTGCCGATATTCTGGAAAGCAATGCCAGGCAGGGGCAGGTGGCCACCGTCCTCTCTCTTCCCGGCTCCGGTCGCCAATGTTGAAAGCGATGTCGGTTGTCTGGAATTGTTCCACGGGCCAACGCTGGCATTAGCTTTTCATTCTGACTGCAACGGGCAATATGTCTCTGTGTGGATTAAAAAAAGAGTGTCTGATAGCAGCTTCTGTATGCCGACTTCCTGCGCGAAGGTTTCCACGTTGTCACGCCGAACAAAAAGGCCAA\"\n",
    "strepto=\"AAAGAGGTTGAGCCTGGCTCGCCTCTTTTATGATATAATCGGAAAAGAAAAGGAGAGTAGTATGTATCAATACAAAAACTAACTGAAATGATAACTCCTAAAAAGACAGTTCCCACAACATTTGAATTTACAGATATTGCTGAAATGGAAATGGTCTGGGAAAAACAACTAAAAGATATTATTGTAGTAGCTGGTTTTGAAATTTATGACGTTGGAAATTTTGTTGAGATGAAAAAACCACACGCTTGTACAATCAAGTCGACTGGTAAAAAGGCTAATCCACTTTAATTGCCAGAGTAAAAAAAATCAAGGATATCACTATTGATATTGCTGCAGAAGCCATTAGAGCCTGAAGCTTCTTTCTTTATCAATGTAGTATCTAGTTTACCTGATGTAACTCTTGATTTTAAAGAAATTGAAAATGTTCTTCAAAAGATTAAACCAGTCCTAGAAGACGGGAAATCAGCTCGTACCATTGAATTTACAGATGGCTTGGATTGGGAACTTACTTCACAGCTGGTGAAAAAGAAGTTCGCGCTTGGACTTTCAAACGTGGTATGAAGGCTCCTCAAGCA\"\n",
    "\n",
    "\n",
    "\n"
   ]
  }
 ],
 "metadata": {
  "kernelspec": {
   "display_name": "Python 2",
   "language": "python",
   "name": "python2"
  },
  "language_info": {
   "codemirror_mode": {
    "name": "ipython",
    "version": 2
   },
   "file_extension": ".py",
   "mimetype": "text/x-python",
   "name": "python",
   "nbconvert_exporter": "python",
   "pygments_lexer": "ipython2",
   "version": "2.7.12"
  }
 },
 "nbformat": 4,
 "nbformat_minor": 2
}
