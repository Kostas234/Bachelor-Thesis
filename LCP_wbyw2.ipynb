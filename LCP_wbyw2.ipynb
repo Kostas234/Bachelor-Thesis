{
 "cells": [
  {
   "cell_type": "code",
   "execution_count": 18,
   "metadata": {},
   "outputs": [],
   "source": [
    "# LCP(word by word)\n",
    "\n",
    "def LCP(x):\n",
    "    \n",
    "    result=\"\"\n",
    "    result1 = \"\"\n",
    "    n=len(x)\n",
    "    if n==1:\n",
    "        return x[0]\n",
    "    else:\n",
    "        result2=[\"\"]*(n-1)\n",
    "        j=0\n",
    "        for i in range(n-1):\n",
    "            if len(x[i])>len(x[i+1]):\n",
    "                k=len(x[i+1])\n",
    "            else:\n",
    "                k=len(x[i])\n",
    "            for j in range(k):\n",
    "                if x[i][j]!=x[i+1][j]:\n",
    "                    break            \n",
    "                result1 += x[i][j]\n",
    "                result2[i]=result1\n",
    "            result1=\"\"\n",
    "        for m in range(n-2):\n",
    "            if result2[m]>result2[m+1]:\n",
    "                result=result2[m+1]\n",
    "            else:\n",
    "                result=result2[m]\n",
    "        print result,"
   ]
  },
  {
   "cell_type": "code",
   "execution_count": 19,
   "metadata": {},
   "outputs": [
    {
     "name": "stdout",
     "output_type": "stream",
     "text": [
      "ACG\n"
     ]
    }
   ],
   "source": [
    "LCP([\"ACGT\",\"ACGTC\",\"ACGGTA\"])"
   ]
  },
  {
   "cell_type": "code",
   "execution_count": 27,
   "metadata": {},
   "outputs": [
    {
     "data": {
      "text/plain": [
       "'AC'"
      ]
     },
     "execution_count": 27,
     "metadata": {},
     "output_type": "execute_result"
    }
   ],
   "source": [
    "LCP([\"AC\"])"
   ]
  },
  {
   "cell_type": "code",
   "execution_count": 29,
   "metadata": {},
   "outputs": [
    {
     "name": "stdout",
     "output_type": "stream",
     "text": [
      "sk\n"
     ]
    }
   ],
   "source": [
    "x=[\"skase\",\"sk\",\"ska\",\"ske\"]\n",
    "LCP(x)"
   ]
  },
  {
   "cell_type": "code",
   "execution_count": null,
   "metadata": {},
   "outputs": [],
   "source": []
  }
 ],
 "metadata": {
  "kernelspec": {
   "display_name": "Python 2",
   "language": "python",
   "name": "python2"
  },
  "language_info": {
   "codemirror_mode": {
    "name": "ipython",
    "version": 2
   },
   "file_extension": ".py",
   "mimetype": "text/x-python",
   "name": "python",
   "nbconvert_exporter": "python",
   "pygments_lexer": "ipython2",
   "version": "2.7.12"
  }
 },
 "nbformat": 4,
 "nbformat_minor": 2
}
