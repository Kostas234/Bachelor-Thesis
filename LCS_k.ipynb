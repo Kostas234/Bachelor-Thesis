{
 "cells": [
  {
   "cell_type": "code",
   "execution_count": 20,
   "metadata": {},
   "outputs": [],
   "source": [
    "def lcs_k(x,y,k):\n",
    "    \n",
    "    n=len(x)\n",
    "    m=len(y)\n",
    "    l=0\n",
    "    r1=0\n",
    "    r2=0\n",
    "    \n",
    "    for d in range(-m+1,n-1):\n",
    "        i=max(-d,0)+d\n",
    "        j=max(-d,0)\n",
    "        Q=[]\n",
    "        s=0\n",
    "        p=0\n",
    "        while p<=(min(n-i,m-j)-1):\n",
    "            if x[i+p]!=y[j+p]:\n",
    "                if len(Q)==k:\n",
    "                    x=min(Q)+1\n",
    "            p=p+1\n",
    "            if p-s>l:\n",
    "                l=p-s\n",
    "                r1=i+s\n",
    "                r2=j+s\n",
    "    return i,j"
   ]
  },
  {
   "cell_type": "code",
   "execution_count": 22,
   "metadata": {},
   "outputs": [
    {
     "data": {
      "text/plain": [
       "(7, 0)"
      ]
     },
     "execution_count": 22,
     "metadata": {},
     "output_type": "execute_result"
    }
   ],
   "source": [
    "lcs_k(\"GGGGACAGT\",\"TTTTCAGG\",1)"
   ]
  },
  {
   "cell_type": "code",
   "execution_count": 16,
   "metadata": {},
   "outputs": [
    {
     "name": "stdout",
     "output_type": "stream",
     "text": [
      "3\n",
      "4\n",
      "5\n",
      "6\n",
      "7\n",
      "8\n"
     ]
    }
   ],
   "source": [
    "for i in range(3,9):\n",
    "    print i"
   ]
  },
  {
   "cell_type": "code",
   "execution_count": 25,
   "metadata": {},
   "outputs": [],
   "source": [
    "Q=[1, 2, 3]"
   ]
  },
  {
   "cell_type": "markdown",
   "metadata": {},
   "source": []
  },
  {
   "cell_type": "code",
   "execution_count": 27,
   "metadata": {},
   "outputs": [
    {
     "name": "stdout",
     "output_type": "stream",
     "text": [
      "1\n"
     ]
    }
   ],
   "source": [
    "p=min(Q)\n",
    "print p"
   ]
  },
  {
   "cell_type": "code",
   "execution_count": null,
   "metadata": {},
   "outputs": [],
   "source": []
  }
 ],
 "metadata": {
  "kernelspec": {
   "display_name": "Python 2",
   "language": "python",
   "name": "python2"
  },
  "language_info": {
   "codemirror_mode": {
    "name": "ipython",
    "version": 2
   },
   "file_extension": ".py",
   "mimetype": "text/x-python",
   "name": "python",
   "nbconvert_exporter": "python",
   "pygments_lexer": "ipython2",
   "version": "2.7.12"
  }
 },
 "nbformat": 4,
 "nbformat_minor": 2
}
