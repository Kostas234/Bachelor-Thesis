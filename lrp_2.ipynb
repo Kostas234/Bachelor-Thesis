{
 "cells": [
  {
   "cell_type": "code",
   "execution_count": 1,
   "metadata": {},
   "outputs": [],
   "source": [
    "from collections import defaultdict\n",
    "\n",
    "def getsubs(loc, s):\n",
    "    substr = s[loc:]\n",
    "    i = -1\n",
    "    while(substr):\n",
    "        yield substr\n",
    "        substr = s[loc:i]\n",
    "        i -= 1\n",
    "\n",
    "def longestRepetitiveSubstring(r, minocc=3):\n",
    "    occ = defaultdict(int)\n",
    "    # tally all occurrences of all substrings\n",
    "    for i in range(len(r)):\n",
    "        for sub in getsubs(i,r):\n",
    "            occ[sub] += 1\n",
    "\n",
    "    # filter out all substrings with fewer than minocc occurrences\n",
    "    occ_minocc = [k for k,v in occ.items() if v >= minocc]\n",
    "\n",
    "    if occ_minocc:\n",
    "        maxkey =  max(occ_minocc, key=len)\n",
    "        return maxkey, occ[maxkey]\n",
    "    else:\n",
    "        raise ValueError(\"no repetitions of any substring of '%s' with %d or more occurrences\" % (r,minocc))"
   ]
  },
  {
   "cell_type": "code",
   "execution_count": null,
   "metadata": {},
   "outputs": [],
   "source": []
  }
 ],
 "metadata": {
  "kernelspec": {
   "display_name": "Python 2",
   "language": "python",
   "name": "python2"
  },
  "language_info": {
   "codemirror_mode": {
    "name": "ipython",
    "version": 2
   },
   "file_extension": ".py",
   "mimetype": "text/x-python",
   "name": "python",
   "nbconvert_exporter": "python",
   "pygments_lexer": "ipython2",
   "version": "2.7.12"
  }
 },
 "nbformat": 4,
 "nbformat_minor": 2
}
