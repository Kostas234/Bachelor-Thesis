{
 "cells": [
  {
   "cell_type": "code",
   "execution_count": null,
   "metadata": {},
   "outputs": [],
   "source": [
    "def lcs(x,y):\n",
    "    \n",
    "    n=len(x)\n",
    "    m=len(y)\n",
    "    result=\"\"\n",
    "    l3n=0\n",
    "    row=0\n",
    "    col=0\n",
    "    L=[[0 for v in range(m+1)]for w in range(n+1)]\n",
    "    \n",
    "    for i in range(n+1):\n",
    "        for j in range(m+1):\n",
    "            \n",
    "            if x[i-1]!=y[j-1]:\n",
    "                L[i][j]=0\n",
    "            \n",
    "            elif x[i-1]==y[j-1]:\n",
    "                L[i][j]=L[i-1][j-1]+1\n",
    "                if l3n<L[i][j]:\n",
    "                    l3n=L[i][j]\n",
    "                    row=i\n",
    "                    col=j\n",
    "    \n",
    "    if l3n==0:\n",
    "        print \"no common substring\"\n",
    "    \n",
    "    while L[row][col]!=0:\n",
    "        result=x[row-1]+result\n",
    "        row-=1\n",
    "        col-=1\n",
    "        \n",
    "    return result  \n",
    "    "
   ]
  },
  {
   "cell_type": "code",
   "execution_count": null,
   "metadata": {},
   "outputs": [],
   "source": [
    "lcs(\"ACGTTCAC\",\"GATCGTG\")"
   ]
  },
  {
   "cell_type": "code",
   "execution_count": 55,
   "metadata": {},
   "outputs": [],
   "source": [
    "def lcs(x,y):\n",
    "    \n",
    "    n=len(x)\n",
    "    m=len(y)\n",
    "    result=\"\"\n",
    "    l3n=0\n",
    "    row=0\n",
    "    col=0\n",
    "    L=[[0 for v in range(m)]for w in range(n)]\n",
    "    \n",
    "    for i in range(n):\n",
    "        for j in range(m):\n",
    "            if x[i]==y[j]:\n",
    "                L[i][j]=L[i-1][j-1]+1\n",
    "                if l3n<L[i][j]:\n",
    "                    l3n=L[i][j]\n",
    "                    row=i\n",
    "                    col=j\n",
    "    if l3n==0:\n",
    "        print \"no common substring\"\n",
    "    \n",
    "    while L[row][col]!=0:\n",
    "        result=x[row]+result\n",
    "        row-=1\n",
    "        col-=1\n",
    "        \n",
    "    return result\n",
    "    \n",
    "    \n",
    "    \n",
    "    \n",
    "    "
   ]
  },
  {
   "cell_type": "code",
   "execution_count": 56,
   "metadata": {},
   "outputs": [
    {
     "name": "stdout",
     "output_type": "stream",
     "text": [
      "[[0, 1, 0, 0, 0, 0, 0], [0, 0, 0, 1, 0, 0, 0], [1, 0, 0, 0, 2, 0, 1], [0, 0, 1, 0, 0, 3, 0], [0, 0, 1, 0, 0, 1, 0], [0, 0, 0, 2, 0, 0, 0], [0, 1, 0, 0, 0, 0, 0], [0, 0, 0, 1, 0, 0, 0]]\n"
     ]
    },
    {
     "data": {
      "text/plain": [
       "'CGT'"
      ]
     },
     "execution_count": 56,
     "metadata": {},
     "output_type": "execute_result"
    }
   ],
   "source": [
    "lcs(\"ACGTTCAC\",\"GATCGTG\")"
   ]
  },
  {
   "cell_type": "code",
   "execution_count": 1,
   "metadata": {},
   "outputs": [],
   "source": []
  },
  {
   "cell_type": "code",
   "execution_count": null,
   "metadata": {},
   "outputs": [],
   "source": []
  }
 ],
 "metadata": {
  "kernelspec": {
   "display_name": "Python 2",
   "language": "python",
   "name": "python2"
  },
  "language_info": {
   "codemirror_mode": {
    "name": "ipython",
    "version": 2
   },
   "file_extension": ".py",
   "mimetype": "text/x-python",
   "name": "python",
   "nbconvert_exporter": "python",
   "pygments_lexer": "ipython2",
   "version": "2.7.12"
  }
 },
 "nbformat": 4,
 "nbformat_minor": 2
}
