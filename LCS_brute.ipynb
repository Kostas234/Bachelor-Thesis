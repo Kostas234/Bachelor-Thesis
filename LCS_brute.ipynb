{
 "cells": [
  {
   "cell_type": "code",
   "execution_count": 1,
   "metadata": {},
   "outputs": [],
   "source": [
    "def lcs(x,y):\n",
    "    \n",
    "    if x==\"\" and y==\"\":\n",
    "        print \"Strings are empty\"\n",
    "        \n",
    "    n=len(x)\n",
    "    m=len(y)\n",
    "    first1=-1\n",
    "    first2=-1\n",
    "    longest=0\n",
    "    comps=0\n",
    "    result=\"\"\n",
    "    #s=\"\"\n",
    "    #l3n=0\n",
    "    for i in range(n):\n",
    "        for j in range(m):\n",
    "            l3n=0\n",
    "            s1=i\n",
    "            s2=j\n",
    "\n",
    "            #while s1<n and s2<m:\n",
    "            for k in range(20):    \n",
    "                comps+=1\n",
    "                #s1=x[v1]\n",
    "                #s2=y[v2]\n",
    "                #print \"prin\",s1,s2\n",
    "                if x[s1]!=y[s2]:\n",
    "                    \n",
    "                    break\n",
    "                    l3n+=1\n",
    "                    s1+=1\n",
    "                    s2+=1\n",
    "            if longest<l3n:\n",
    "                \n",
    "                longest=l3n\n",
    "                first1=i\n",
    "                first2=j\n",
    "                              \n",
    "    return longest,first1,first2\n",
    "            "
   ]
  },
  {
   "cell_type": "code",
   "execution_count": 2,
   "metadata": {},
   "outputs": [
    {
     "data": {
      "text/plain": [
       "(0, -1, -1)"
      ]
     },
     "execution_count": 2,
     "metadata": {},
     "output_type": "execute_result"
    }
   ],
   "source": [
    "x=\"ACGTAAA\"\n",
    "y=\"GCGTAGAA\"\n",
    "lcs(x,y)"
   ]
  },
  {
   "cell_type": "code",
   "execution_count": 3,
   "metadata": {},
   "outputs": [],
   "source": [
    "def lcs(x,y):\n",
    "    \n",
    "    if x==\"\" and y==\"\":\n",
    "        print \"Strings are empty\"\n",
    "        \n",
    "    n=len(x)\n",
    "    m=len(y)\n",
    "    longest=0\n",
    "    for i in range(n):\n",
    "        for j in range(m):\n",
    "            count=0\n",
    "            while x[i+count]==y[j+count]:\n",
    "                count+=1\n",
    "                if i+count>=n or j+count>=m:\n",
    "                    break\n",
    "                elif count>longest:\n",
    "                    longest=count\n",
    "                    start=i\n",
    "                    \n",
    "    return x[start:start+longest+1]\n",
    "                    "
   ]
  },
  {
   "cell_type": "code",
   "execution_count": 4,
   "metadata": {},
   "outputs": [
    {
     "data": {
      "text/plain": [
       "'GTT'"
      ]
     },
     "execution_count": 4,
     "metadata": {},
     "output_type": "execute_result"
    }
   ],
   "source": [
    "lcs(\"ACGTTCG\",\"AAGTATG\")"
   ]
  },
  {
   "cell_type": "code",
   "execution_count": 1,
   "metadata": {},
   "outputs": [],
   "source": [
    "def lcs(S,T):\n",
    "    m = len(S)\n",
    "    n = len(T)\n",
    "    counter = [[0]*(n+1) for x in range(m+1)]\n",
    "    longest = 0\n",
    "    lcs_set = set()\n",
    "    for i in range(m):\n",
    "        for j in range(n):\n",
    "            if S[i] == T[j]:\n",
    "                c = counter[i][j] + 1\n",
    "                counter[i+1][j+1] = c\n",
    "                if c > longest:\n",
    "                    lcs_set = set()\n",
    "                    longest = c\n",
    "                    lcs_set.add(S[i-c+1:i+1])\n",
    "                elif c == longest:\n",
    "                    lcs_set.add(S[i-c+1:i+1])\n",
    "                    \n",
    "    return lcs_set"
   ]
  },
  {
   "cell_type": "code",
   "execution_count": 2,
   "metadata": {},
   "outputs": [
    {
     "data": {
      "text/plain": [
       "{'GT'}"
      ]
     },
     "execution_count": 2,
     "metadata": {},
     "output_type": "execute_result"
    }
   ],
   "source": [
    "lcs(\"ACGTTCG\",\"AAGTATG\")"
   ]
  },
  {
   "cell_type": "code",
   "execution_count": 212,
   "metadata": {},
   "outputs": [],
   "source": [
    "#LCSub Naive\n",
    "\n",
    "def lcs_n(x,y):\n",
    "    \n",
    "    n=len(x)\n",
    "    m=len(y)\n",
    "    \n",
    "    if n==0 or m==0:\n",
    "        return \"\"\n",
    "    \n",
    "    if x[n-1]==y[m-1]:\n",
    "        return lcs_n(x[0:n-1],y[0:m-1])+x[n-1]\n",
    "    \n",
    "    l2=lcs_n(x,y[0:m-1])\n",
    "    l1=lcs_n(x[0:n-1],y)\n",
    "    if len(l1)>len(l2):\n",
    "        return l1\n",
    "    else:\n",
    "        return l2\n",
    "    \n",
    "    #i=lcs_naive(0,0)\n",
    "    #return i\n",
    "    \n"
   ]
  },
  {
   "cell_type": "code",
   "execution_count": 213,
   "metadata": {},
   "outputs": [
    {
     "name": "stdout",
     "output_type": "stream",
     "text": [
      "GTAB\n"
     ]
    }
   ],
   "source": [
    "print lcs_n('AGGTAB','GXTXAYB')"
   ]
  },
  {
   "cell_type": "code",
   "execution_count": 15,
   "metadata": {},
   "outputs": [],
   "source": [
    "def lcs(X, Y, m, n):\n",
    " \n",
    "    if m == 0 or n == 0:\n",
    "       return 0;\n",
    "    elif X[m-1] == Y[n-1]:\n",
    "       return 1 + lcs(X, Y, m-1, n-1);\n",
    "    else:\n",
    "       return max(lcs(X, Y, m, n-1), lcs(X, Y, m-1, n));"
   ]
  },
  {
   "cell_type": "code",
   "execution_count": 16,
   "metadata": {},
   "outputs": [
    {
     "data": {
      "text/plain": [
       "4"
      ]
     },
     "execution_count": 16,
     "metadata": {},
     "output_type": "execute_result"
    }
   ],
   "source": [
    "lcs(\"AGGTAB\",\"GXTXAYB\",6,7)"
   ]
  },
  {
   "cell_type": "code",
   "execution_count": 196,
   "metadata": {},
   "outputs": [],
   "source": [
    "def lcs(x, y):\n",
    "    \n",
    "    n=len(x)\n",
    "    m=len(y)\n",
    "    \n",
    "    if n==0 or m==0:\n",
    "        return \"\"\n",
    "  \n",
    "    if x[n-1] == y[m-1]:\n",
    "        return lcs(x[0:n-1], y[0:m-1]) + x[n-1]\n",
    "\n",
    "    l1 = lcs(x[0:n-1], y)\n",
    "    l2 = lcs(x, y[0:m-1])\n",
    "    if len(l1) > len(l2):\n",
    "        return l1\n",
    "    else:\n",
    "        return l2"
   ]
  },
  {
   "cell_type": "code",
   "execution_count": 197,
   "metadata": {},
   "outputs": [
    {
     "name": "stdout",
     "output_type": "stream",
     "text": [
      "GTAB\n"
     ]
    }
   ],
   "source": [
    "print lcs('AGGTAB','GXTXAYB')"
   ]
  },
  {
   "cell_type": "code",
   "execution_count": 210,
   "metadata": {},
   "outputs": [],
   "source": [
    "#LCSub Naive\n",
    "\n",
    "def lcs_n(x,y):\n",
    "    \n",
    "    n=len(x)\n",
    "    m=len(y)\n",
    "    \n",
    "    if n==0 or m==0:\n",
    "        return \"\"\n",
    "    \n",
    "    if x[n-1]==y[m-1]:\n",
    "        return lcs_n(x[0:n-1],y[0:m-1])+x[n-1]\n",
    "    \n",
    "    l1=lcs_n(x,y[0:m-1])\n",
    "    l2=lcs_n(x[0:n-1],y)\n",
    "    \n",
    "    if len(l1)>len(l2):\n",
    "        return l1\n",
    "    else:\n",
    "        return l2"
   ]
  },
  {
   "cell_type": "code",
   "execution_count": 211,
   "metadata": {},
   "outputs": [
    {
     "name": "stdout",
     "output_type": "stream",
     "text": [
      "GTAB\n"
     ]
    }
   ],
   "source": [
    "print lcs_n('AGGTAB','GXTXAYB')"
   ]
  },
  {
   "cell_type": "code",
   "execution_count": 122,
   "metadata": {},
   "outputs": [
    {
     "name": "stdout",
     "output_type": "stream",
     "text": [
      "h\n",
      "h\n",
      "h\n"
     ]
    }
   ],
   "source": [
    "str=\"oaish\"\n",
    "for i in range(3):\n",
    "    print str[-1]"
   ]
  },
  {
   "cell_type": "code",
   "execution_count": null,
   "metadata": {},
   "outputs": [],
   "source": []
  }
 ],
 "metadata": {
  "kernelspec": {
   "display_name": "Python 2",
   "language": "python",
   "name": "python2"
  },
  "language_info": {
   "codemirror_mode": {
    "name": "ipython",
    "version": 2
   },
   "file_extension": ".py",
   "mimetype": "text/x-python",
   "name": "python",
   "nbconvert_exporter": "python",
   "pygments_lexer": "ipython2",
   "version": "2.7.12"
  }
 },
 "nbformat": 4,
 "nbformat_minor": 2
}
