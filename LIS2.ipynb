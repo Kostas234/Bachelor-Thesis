{
 "cells": [
  {
   "cell_type": "code",
   "execution_count": 334,
   "metadata": {},
   "outputs": [],
   "source": [
    "def lis2(x):\n",
    "    \n",
    "    n=len(x)\n",
    "    m=4\n",
    "    y=zip(*[iter(x)]*m)\n",
    "    h=n%m\n",
    "    if h>0:\n",
    "        y.append(x[n-h:n])\n",
    "    ys=[[0 for i in range(m)]for j in range(n/m)]\n",
    "    p=len(ys)\n",
    "    for i in range(p):\n",
    "        ys[i]=sorted(y[i])\n",
    "    if h>0:\n",
    "        ys.append(sorted(y[p]))\n",
    "    \n",
    "    y0_k=[\"\"]*2*len(y[0])\n",
    "    \n",
    "    p=0\n",
    "    q=0\n",
    "    for i in range(2*len(ys[0])):\n",
    "        if i%2!=0:\n",
    "            y0_k[i]=p\n",
    "            p+=1\n",
    "        else:\n",
    "            y0_k[i]=ys[0][q]\n",
    "            q+=1\n",
    "    y0_ks=[\"\"]*len(y[0])        \n",
    "    for i in range(len(y)+1):\n",
    "        for j in range(0,len(y0_k),2):\n",
    "            if y[0][i]==y0_k[j]:\n",
    "                #print \"s\"\n",
    "                #print y[0][i],y0_k[j]\n",
    "                #print y0_k[j+1]\n",
    "                y0_ks[i]=y0_k[j+1]\n",
    "    b=lis(y0_ks)\n",
    "    \n",
    "    print y0_ks,b#y,\"\\n\",y0_k,\"\\n\",y0_ks#,\"\\n\",ys,\"\\n\",y0_k"
   ]
  },
  {
   "cell_type": "code",
   "execution_count": 337,
   "metadata": {},
   "outputs": [
    {
     "name": "stdout",
     "output_type": "stream",
     "text": [
      "[3, 1, 2, 0] [0, 2]\n"
     ]
    }
   ],
   "source": [
    "lis2([12,8,9,1,11,6,7,2,10,4,5,3])"
   ]
  },
  {
   "cell_type": "code",
   "execution_count": 258,
   "metadata": {},
   "outputs": [
    {
     "name": "stdout",
     "output_type": "stream",
     "text": [
      "0\n",
      "2\n",
      "4\n",
      "6\n",
      "8\n"
     ]
    }
   ],
   "source": [
    "for i in range(0,10,2):\n",
    "    print i"
   ]
  },
  {
   "cell_type": "code",
   "execution_count": 312,
   "metadata": {},
   "outputs": [],
   "source": [
    "if 2>'':\n",
    "    print \"s\""
   ]
  },
  {
   "cell_type": "code",
   "execution_count": 336,
   "metadata": {},
   "outputs": [],
   "source": [
    "#class Count\n",
    "\n",
    "def lis(x):\n",
    "    \n",
    "    n=len(x)\n",
    "    y=[\"\"]\n",
    "    l=[]\n",
    "    y[0]=x[0]\n",
    "    for i in range(n-1):\n",
    "        k=len(y)\n",
    "        if len(y)==1 and x[i+1]<y[0]:\n",
    "            l.extend([y[0],x[i+1]])\n",
    "            y[0]=x[i+1]\n",
    "        elif x[i+1]>y[k-1]:\n",
    "            y.extend([x[i+1]])\n",
    "            l.extend([y[k-1],x[i+1]])\n",
    "        elif x[i+1]<y[k-1] and len(y)>1:\n",
    "            for j in range(k):\n",
    "                if x[i+1]<y[j]:\n",
    "                    if j==0:\n",
    "                        l.extend([y[j],x[i+1]])\n",
    "                    else:\n",
    "                        l.extend([y[j-1],x[i+1]])\n",
    "                    y[j]=x[i+1]\n",
    "                    break\n",
    "                elif j==k-1:\n",
    "                    l.extend([y[0],x[i+1]])\n",
    "                    y[0]=x[i+1]\n",
    "    \n",
    "    s=[]\n",
    "    s.append(y[len(y)-1])\n",
    "    for g in range(len(y)-1):\n",
    "        for f in range(len(l),0,-1):\n",
    "            if f%2==1 and l[f]==s[0]:\n",
    "                s.insert(0,l[f-1])\n",
    "                break\n",
    "    return y     \n",
    "    #print \"Mikos LIS:\",len(y),\"\\n\",\"LIS:\",s"
   ]
  },
  {
   "cell_type": "code",
   "execution_count": null,
   "metadata": {},
   "outputs": [],
   "source": []
  },
  {
   "cell_type": "code",
   "execution_count": null,
   "metadata": {},
   "outputs": [],
   "source": []
  }
 ],
 "metadata": {
  "kernelspec": {
   "display_name": "Python 2",
   "language": "python",
   "name": "python2"
  },
  "language_info": {
   "codemirror_mode": {
    "name": "ipython",
    "version": 2
   },
   "file_extension": ".py",
   "mimetype": "text/x-python",
   "name": "python",
   "nbconvert_exporter": "python",
   "pygments_lexer": "ipython2",
   "version": "2.7.12"
  }
 },
 "nbformat": 4,
 "nbformat_minor": 2
}
