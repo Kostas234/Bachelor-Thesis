{
 "cells": [
  {
   "cell_type": "code",
   "execution_count": null,
   "metadata": {},
   "outputs": [],
   "source": [
    "x=\"abbabaababaabab\"\n",
    "import numpy as np"
   ]
  },
  {
   "cell_type": "code",
   "execution_count": null,
   "metadata": {},
   "outputs": [],
   "source": [
    "# reverse function\n",
    "\n",
    "def Reverse(x):\n",
    "    x_l=list(x)\n",
    "    x_l.reverse()\n",
    "    x_rl=x_l\n",
    "    x_r=''.join(x_rl)\n",
    "    \n",
    "    return x_r\n",
    "\n",
    "#paradeigma\n",
    "#Reverse(x)"
   ]
  },
  {
   "cell_type": "code",
   "execution_count": null,
   "metadata": {},
   "outputs": [],
   "source": [
    "def LCE(x,i,j):\n",
    "    n=len(x)\n",
    "    length=0\n",
    "    while x[i+length]==x[j+length] and j+length<n:\n",
    "        #if j+length==n:\n",
    "        #    break\n",
    "        length+=1\n",
    "        if j+length==n:\n",
    "            break\n",
    "        \n",
    "    return length\n",
    "\n",
    "#paradeigma\n",
    "#LCE(x,0,5)\n",
    "#x=\"abbabaababaabab\"\n",
    "#LCE(x,1,14)"
   ]
  },
  {
   "cell_type": "code",
   "execution_count": null,
   "metadata": {},
   "outputs": [],
   "source": [
    "# getNextLPM function\n",
    "\n",
    "def getNextLPM(lpm,x,n):\n",
    "    for i in range(n-1):\n",
    "        if lpm[i+1]==n-i-1:\n",
    "            continue\n",
    "            \n",
    "        # update of LPM\n",
    "        lpm[i+1]=lpm[i+1]+LCE(x,lpm[i+1]+1,(i+1)+lpm[i+1]+1)+1\n",
    "    return lpm\n"
   ]
  },
  {
   "cell_type": "code",
   "execution_count": null,
   "metadata": {},
   "outputs": [],
   "source": [
    "#getPeaks function\n",
    "\n",
    "def getPeaks(val):\n",
    "    m=len(val)\n",
    "    max_val=-1\n",
    "    peaks=np.arange(m)\n",
    "    \n",
    "    for i in range(n-1):\n",
    "        if val[i]>max_val:\n",
    "            peaks[i]=True\n",
    "            max_val=val[i]\n",
    "        else:\n",
    "            peaks[i]=False\n",
    "    return peaks"
   ]
  },
  {
   "cell_type": "code",
   "execution_count": null,
   "metadata": {},
   "outputs": [],
   "source": [
    "# getBorder function\n",
    "\n",
    "def getBorder(x,k):\n",
    "    n=len(x)\n",
    "    \n",
    "    if n==0 or n==1:\n",
    "        return 0\n",
    "    #lpm and lsm are integer arrays of length n filled with -1 at every position\n",
    "    lpm=np.arange(n)\n",
    "    lsm=np.arange(n)\n",
    "    \n",
    "    for i in range(n):\n",
    "        lpm[i]=-1\n",
    "        lsm[i]=-1\n",
    "    \n",
    "    for i in range(k):\n",
    "        lpm=getNextLPM(lpm,x,n)\n",
    "        # DOKIMH\n",
    "        #a=getNextLPM(Reverse(lsm),Reverse(x),n)\n",
    "        #rint a\n",
    "        #-----------\n",
    "        lsm=lsm.tolist()\n",
    "        lsm=lsm.reverse()\n",
    "        x=Reverse(x)\n",
    "        gnLPM=getNextLPM(lsm,x,n)\n",
    "        lsm=Reverse(gnLMP)\n",
    "        \n",
    "    lpm_peaks=getPeaks(lpm)\n",
    "    lsm_peaks=getPeaks(lsm)\n",
    "    \n",
    "    for j in range(n-1):\n",
    "        if (j+1)+lpm[j+1]==n and lpm_peaks[j+1] and lsm_peaks[n-1-(j+1)]:\n",
    "            return n-(j+1)\n",
    "        \n",
    "    return -1"
   ]
  },
  {
   "cell_type": "code",
   "execution_count": null,
   "metadata": {},
   "outputs": [],
   "source": [
    "x=\"abbabaababaabab\"\n",
    "import numpy as np\n",
    "\n",
    "n=len(x)\n",
    "\n",
    "if n==0 or n==1:\n",
    "    ret=0\n",
    "#lpm and lsm are integer arrays of length n filled with -1 at every position\n",
    "lpm=np.arange(n)\n",
    "lsm=np.arange(n)\n",
    "\n",
    "for i in range(n):\n",
    "    lpm[i]=-1\n",
    "    lsm[i]=-1\n",
    "    \n",
    "for i in range(k):\n",
    "    print \"Eisodos:\\nlpm:\",lpm,\"\\nlsm:\",lsm,\"\\nx:\",x,\"\\nn:\",n,\"\\n\"\n",
    "    lpm=getNextLPM(lpm,x,n)\n",
    "    print \"to lpm meta th getNextLPM:\",lpm,\"\\n\"\n",
    "    #Reverse(lsm)\n",
    "    lsm=lsm.tolist()\n",
    "    lsm_r=list(reversed(lsm))\n",
    "    #lsm_r= ''.join(lsm_r)\n",
    "    print \"to lsm meta th reverse\"\n",
    "    print \"lsm_r:\",lsm_r\n",
    "    gnLPM=getNextLPM(lsm_r,Reverse(x),n)\n",
    "    print \"\\nto lsm meta to Reverse(GetNextLPM(Reverse(lsm), Reverse(x), n)) einai:\",gnLPM,\"\\n\"\n",
    "    lsm=list(reversed(gnLPM))\n",
    "    break # DOKIMH\n",
    "lpm_peaks=getPeaks(lpm)\n",
    "lsm_peaks=getPeaks(lsm)\n",
    "        \n",
    "for j in range(n-2):\n",
    "    if (j+1)+lpm[j+1]==n and lpm_peaks[j+1] and lsm_peaks[n-j]:\n",
    "        return n-j+1\n",
    "        \n",
    "return -1"
   ]
  },
  {
   "cell_type": "code",
   "execution_count": null,
   "metadata": {},
   "outputs": [],
   "source": [
    "print lpm\n",
    "for i in range(n-1):\n",
    "    if lpm[i+1]==n-i-1:\n",
    "        continue\n",
    "    print i,\"\",lpm[i+1]+1,\"\",(i+1)+lpm[i+1]+1,\"\",lpm       \n",
    "# update of LPM\n",
    "    lpm[i+1]=lpm[i+1]+LCE(x,lpm[i+1]+1,(i+1)+lpm[i+1]+1)+1\n"
   ]
  },
  {
   "cell_type": "code",
   "execution_count": null,
   "metadata": {},
   "outputs": [],
   "source": [
    "n=15\n",
    "lpm=np.arange(n)\n",
    "lsm=np.arange(n)\n",
    "\n",
    "for i in range(n):\n",
    "    lpm[i]=-1\n",
    "    lsm[i]=-1\n",
    "for i in range(2):\n",
    "    print \"eisodos:\",lpm   \n",
    "    lpm=getNextLPM(lpm,x,n)\n",
    "    print lpm"
   ]
  },
  {
   "cell_type": "code",
   "execution_count": null,
   "metadata": {},
   "outputs": [],
   "source": [
    "lpm=np.arange(n)\n",
    "lsm=np.arange(n)\n",
    "for i in range(n):\n",
    "    lpm[i]=-1\n",
    "    lsm[i]=-1\n",
    "    \n",
    "lsm=[-1 -1 -1 -1 -1 -1 -1 -1 -1 -1 -1 -1 -1 -1 -1]    \n",
    "x='babaababaababba'\n",
    "n=15\n",
    "print lsm,\"\",x,\"\",n\n",
    "for i in range(n-1):\n",
    "    #print lpm[i+1],\"\",n-i-1\n",
    "    if lpm[i+1]==n-i-1:\n",
    "        continue\n",
    "    print \"\",lpm[i+1]+1,\"\",(i+1)+lpm[i+1]+1,\"\\n\"#,lpm\n",
    "    lpm[i+1]=lpm[i+1]+LCE(x,lpm[i+1]+1,(i+1)+lpm[i+1]+1)+1\n",
    "    #print lpm[i+1]"
   ]
  }
 ],
 "metadata": {
  "kernelspec": {
   "display_name": "Python 2",
   "language": "python",
   "name": "python2"
  },
  "language_info": {
   "codemirror_mode": {
    "name": "ipython",
    "version": 2
   },
   "file_extension": ".py",
   "mimetype": "text/x-python",
   "name": "python",
   "nbconvert_exporter": "python",
   "pygments_lexer": "ipython2",
   "version": "2.7.12"
  }
 },
 "nbformat": 4,
 "nbformat_minor": 2
}
